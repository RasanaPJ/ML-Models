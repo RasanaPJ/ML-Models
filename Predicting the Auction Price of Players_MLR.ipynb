{
 "cells": [
  {
   "cell_type": "markdown",
   "metadata": {},
   "source": [
    "# Multiple Linear Regression using statsmodel libraries"
   ]
  },
  {
   "cell_type": "markdown",
   "metadata": {},
   "source": [
    "# Predicting the Sold Price(Auction price) of IPL players"
   ]
  },
  {
   "cell_type": "markdown",
   "metadata": {},
   "source": [
    "## The Data set consists of the performance of 130 players measured through various performance metrics. "
   ]
  },
  {
   "cell_type": "markdown",
   "metadata": {},
   "source": [
    "## 1.1 Import the necessary packages"
   ]
  },
  {
   "cell_type": "code",
   "execution_count": 107,
   "metadata": {},
   "outputs": [],
   "source": [
    "import pandas as pd\n",
    "import numpy as np\n",
    "import matplotlib.pyplot as plt\n",
    "import seaborn as sn\n",
    "%matplotlib inline"
   ]
  },
  {
   "cell_type": "code",
   "execution_count": 108,
   "metadata": {},
   "outputs": [],
   "source": [
    "import warnings\n",
    "warnings.filterwarnings('ignore')"
   ]
  },
  {
   "cell_type": "markdown",
   "metadata": {},
   "source": [
    "## 1.2 Loading Data set into Pandas Data Frame"
   ]
  },
  {
   "cell_type": "code",
   "execution_count": 109,
   "metadata": {},
   "outputs": [],
   "source": [
    "ipl_auction_df = pd.read_csv(\"IPLdataset.csv\")"
   ]
  },
  {
   "cell_type": "code",
   "execution_count": 110,
   "metadata": {},
   "outputs": [
    {
     "data": {
      "text/plain": [
       "pandas.core.frame.DataFrame"
      ]
     },
     "execution_count": 110,
     "metadata": {},
     "output_type": "execute_result"
    }
   ],
   "source": [
    "type(ipl_auction_df)"
   ]
  },
  {
   "cell_type": "markdown",
   "metadata": {},
   "source": [
    "## 1.3 Displaying first few reconds of the data set"
   ]
  },
  {
   "cell_type": "code",
   "execution_count": 111,
   "metadata": {},
   "outputs": [
    {
     "data": {
      "text/html": [
       "<div>\n",
       "<style scoped>\n",
       "    .dataframe tbody tr th:only-of-type {\n",
       "        vertical-align: middle;\n",
       "    }\n",
       "\n",
       "    .dataframe tbody tr th {\n",
       "        vertical-align: top;\n",
       "    }\n",
       "\n",
       "    .dataframe thead th {\n",
       "        text-align: right;\n",
       "    }\n",
       "</style>\n",
       "<table border=\"1\" class=\"dataframe\">\n",
       "  <thead>\n",
       "    <tr style=\"text-align: right;\">\n",
       "      <th></th>\n",
       "      <th>Sl.NO.</th>\n",
       "      <th>PLAYER NAME</th>\n",
       "      <th>AGE</th>\n",
       "      <th>COUNTRY</th>\n",
       "      <th>TEAM</th>\n",
       "      <th>PLAYING ROLE</th>\n",
       "      <th>T-RUNS</th>\n",
       "      <th>T-WKTS</th>\n",
       "      <th>ODI-RUNS-S</th>\n",
       "      <th>ODI-SR-B</th>\n",
       "      <th>...</th>\n",
       "      <th>SR -B</th>\n",
       "      <th>SIXERS</th>\n",
       "      <th>RUNS-C</th>\n",
       "      <th>WKTS</th>\n",
       "      <th>AVE-BL</th>\n",
       "      <th>ECON</th>\n",
       "      <th>SR-BL</th>\n",
       "      <th>AUCTION YEAR</th>\n",
       "      <th>BASE PRICE</th>\n",
       "      <th>SOLD PRICE</th>\n",
       "    </tr>\n",
       "  </thead>\n",
       "  <tbody>\n",
       "    <tr>\n",
       "      <td>0</td>\n",
       "      <td>1</td>\n",
       "      <td>Abdulla, YA</td>\n",
       "      <td>2</td>\n",
       "      <td>SA</td>\n",
       "      <td>KXIP</td>\n",
       "      <td>Allrounder</td>\n",
       "      <td>0</td>\n",
       "      <td>0</td>\n",
       "      <td>0</td>\n",
       "      <td>0.00</td>\n",
       "      <td>...</td>\n",
       "      <td>0.00</td>\n",
       "      <td>0</td>\n",
       "      <td>307</td>\n",
       "      <td>15</td>\n",
       "      <td>20.47</td>\n",
       "      <td>8.90</td>\n",
       "      <td>13.93</td>\n",
       "      <td>2009</td>\n",
       "      <td>50000</td>\n",
       "      <td>50000</td>\n",
       "    </tr>\n",
       "    <tr>\n",
       "      <td>1</td>\n",
       "      <td>2</td>\n",
       "      <td>Abdur Razzak</td>\n",
       "      <td>2</td>\n",
       "      <td>BAN</td>\n",
       "      <td>RCB</td>\n",
       "      <td>Bowler</td>\n",
       "      <td>214</td>\n",
       "      <td>18</td>\n",
       "      <td>657</td>\n",
       "      <td>71.41</td>\n",
       "      <td>...</td>\n",
       "      <td>0.00</td>\n",
       "      <td>0</td>\n",
       "      <td>29</td>\n",
       "      <td>0</td>\n",
       "      <td>0.00</td>\n",
       "      <td>14.50</td>\n",
       "      <td>0.00</td>\n",
       "      <td>2008</td>\n",
       "      <td>50000</td>\n",
       "      <td>50000</td>\n",
       "    </tr>\n",
       "    <tr>\n",
       "      <td>2</td>\n",
       "      <td>3</td>\n",
       "      <td>Agarkar, AB</td>\n",
       "      <td>2</td>\n",
       "      <td>IND</td>\n",
       "      <td>KKR</td>\n",
       "      <td>Bowler</td>\n",
       "      <td>571</td>\n",
       "      <td>58</td>\n",
       "      <td>1269</td>\n",
       "      <td>80.62</td>\n",
       "      <td>...</td>\n",
       "      <td>121.01</td>\n",
       "      <td>5</td>\n",
       "      <td>1059</td>\n",
       "      <td>29</td>\n",
       "      <td>36.52</td>\n",
       "      <td>8.81</td>\n",
       "      <td>24.90</td>\n",
       "      <td>2008</td>\n",
       "      <td>200000</td>\n",
       "      <td>350000</td>\n",
       "    </tr>\n",
       "    <tr>\n",
       "      <td>3</td>\n",
       "      <td>4</td>\n",
       "      <td>Ashwin, R</td>\n",
       "      <td>1</td>\n",
       "      <td>IND</td>\n",
       "      <td>CSK</td>\n",
       "      <td>Bowler</td>\n",
       "      <td>284</td>\n",
       "      <td>31</td>\n",
       "      <td>241</td>\n",
       "      <td>84.56</td>\n",
       "      <td>...</td>\n",
       "      <td>76.32</td>\n",
       "      <td>0</td>\n",
       "      <td>1125</td>\n",
       "      <td>49</td>\n",
       "      <td>22.96</td>\n",
       "      <td>6.23</td>\n",
       "      <td>22.14</td>\n",
       "      <td>2011</td>\n",
       "      <td>100000</td>\n",
       "      <td>850000</td>\n",
       "    </tr>\n",
       "    <tr>\n",
       "      <td>4</td>\n",
       "      <td>5</td>\n",
       "      <td>Badrinath, S</td>\n",
       "      <td>2</td>\n",
       "      <td>IND</td>\n",
       "      <td>CSK</td>\n",
       "      <td>Batsman</td>\n",
       "      <td>63</td>\n",
       "      <td>0</td>\n",
       "      <td>79</td>\n",
       "      <td>45.93</td>\n",
       "      <td>...</td>\n",
       "      <td>120.71</td>\n",
       "      <td>28</td>\n",
       "      <td>0</td>\n",
       "      <td>0</td>\n",
       "      <td>0.00</td>\n",
       "      <td>0.00</td>\n",
       "      <td>0.00</td>\n",
       "      <td>2011</td>\n",
       "      <td>100000</td>\n",
       "      <td>800000</td>\n",
       "    </tr>\n",
       "  </tbody>\n",
       "</table>\n",
       "<p>5 rows × 26 columns</p>\n",
       "</div>"
      ],
      "text/plain": [
       "   Sl.NO.   PLAYER NAME  AGE COUNTRY  TEAM PLAYING ROLE  T-RUNS  T-WKTS  \\\n",
       "0       1   Abdulla, YA    2      SA  KXIP   Allrounder       0       0   \n",
       "1       2  Abdur Razzak    2     BAN   RCB       Bowler     214      18   \n",
       "2       3   Agarkar, AB    2     IND   KKR       Bowler     571      58   \n",
       "3       4     Ashwin, R    1     IND   CSK       Bowler     284      31   \n",
       "4       5  Badrinath, S    2     IND   CSK      Batsman      63       0   \n",
       "\n",
       "   ODI-RUNS-S  ODI-SR-B  ...   SR -B  SIXERS  RUNS-C  WKTS  AVE-BL   ECON  \\\n",
       "0           0      0.00  ...    0.00       0     307    15   20.47   8.90   \n",
       "1         657     71.41  ...    0.00       0      29     0    0.00  14.50   \n",
       "2        1269     80.62  ...  121.01       5    1059    29   36.52   8.81   \n",
       "3         241     84.56  ...   76.32       0    1125    49   22.96   6.23   \n",
       "4          79     45.93  ...  120.71      28       0     0    0.00   0.00   \n",
       "\n",
       "   SR-BL  AUCTION YEAR  BASE PRICE  SOLD PRICE  \n",
       "0  13.93          2009       50000       50000  \n",
       "1   0.00          2008       50000       50000  \n",
       "2  24.90          2008      200000      350000  \n",
       "3  22.14          2011      100000      850000  \n",
       "4   0.00          2011      100000      800000  \n",
       "\n",
       "[5 rows x 26 columns]"
      ]
     },
     "execution_count": 111,
     "metadata": {},
     "output_type": "execute_result"
    }
   ],
   "source": [
    "ipl_auction_df.head()"
   ]
  },
  {
   "cell_type": "markdown",
   "metadata": {},
   "source": [
    "## 1.4 Checking the Data set summary"
   ]
  },
  {
   "cell_type": "code",
   "execution_count": 112,
   "metadata": {},
   "outputs": [
    {
     "data": {
      "text/plain": [
       "(130, 26)"
      ]
     },
     "execution_count": 112,
     "metadata": {},
     "output_type": "execute_result"
    }
   ],
   "source": [
    "# Dimension or size of the Data frame\n",
    "ipl_auction_df.shape"
   ]
  },
  {
   "cell_type": "code",
   "execution_count": 113,
   "metadata": {},
   "outputs": [
    {
     "name": "stdout",
     "output_type": "stream",
     "text": [
      "<class 'pandas.core.frame.DataFrame'>\n",
      "RangeIndex: 130 entries, 0 to 129\n",
      "Data columns (total 26 columns):\n",
      "Sl.NO.           130 non-null int64\n",
      "PLAYER NAME      130 non-null object\n",
      "AGE              130 non-null int64\n",
      "COUNTRY          130 non-null object\n",
      "TEAM             130 non-null object\n",
      "PLAYING ROLE     130 non-null object\n",
      "T-RUNS           130 non-null int64\n",
      "T-WKTS           130 non-null int64\n",
      "ODI-RUNS-S       130 non-null int64\n",
      "ODI-SR-B         130 non-null float64\n",
      "ODI-WKTS         130 non-null int64\n",
      "ODI-SR-BL        130 non-null float64\n",
      "CAPTAINCY EXP    130 non-null int64\n",
      "RUNS-S           130 non-null int64\n",
      "HS               130 non-null int64\n",
      "AVE              130 non-null float64\n",
      "SR -B            130 non-null float64\n",
      "SIXERS           130 non-null int64\n",
      "RUNS-C           130 non-null int64\n",
      "WKTS             130 non-null int64\n",
      "AVE-BL           130 non-null float64\n",
      "ECON             130 non-null float64\n",
      "SR-BL            130 non-null float64\n",
      "AUCTION YEAR     130 non-null int64\n",
      "BASE PRICE       130 non-null int64\n",
      "SOLD PRICE       130 non-null int64\n",
      "dtypes: float64(7), int64(15), object(4)\n",
      "memory usage: 26.5+ KB\n"
     ]
    }
   ],
   "source": [
    "# Detailed summary about the data set\n",
    "ipl_auction_df.info()"
   ]
  },
  {
   "cell_type": "code",
   "execution_count": 114,
   "metadata": {},
   "outputs": [
    {
     "data": {
      "text/plain": [
       "0     Abdulla, YA\n",
       "1    Abdur Razzak\n",
       "2     Agarkar, AB\n",
       "3       Ashwin, R\n",
       "4    Badrinath, S\n",
       "Name: PLAYER NAME, dtype: object"
      ]
     },
     "execution_count": 114,
     "metadata": {},
     "output_type": "execute_result"
    }
   ],
   "source": [
    "# Display first five players name\n",
    "ipl_auction_df['PLAYER NAME'][0:5]"
   ]
  },
  {
   "cell_type": "code",
   "execution_count": 115,
   "metadata": {},
   "outputs": [
    {
     "data": {
      "text/html": [
       "<div>\n",
       "<style scoped>\n",
       "    .dataframe tbody tr th:only-of-type {\n",
       "        vertical-align: middle;\n",
       "    }\n",
       "\n",
       "    .dataframe tbody tr th {\n",
       "        vertical-align: top;\n",
       "    }\n",
       "\n",
       "    .dataframe thead th {\n",
       "        text-align: right;\n",
       "    }\n",
       "</style>\n",
       "<table border=\"1\" class=\"dataframe\">\n",
       "  <thead>\n",
       "    <tr style=\"text-align: right;\">\n",
       "      <th></th>\n",
       "      <th>PLAYER NAME</th>\n",
       "      <th>COUNTRY</th>\n",
       "    </tr>\n",
       "  </thead>\n",
       "  <tbody>\n",
       "    <tr>\n",
       "      <td>0</td>\n",
       "      <td>Abdulla, YA</td>\n",
       "      <td>SA</td>\n",
       "    </tr>\n",
       "    <tr>\n",
       "      <td>1</td>\n",
       "      <td>Abdur Razzak</td>\n",
       "      <td>BAN</td>\n",
       "    </tr>\n",
       "    <tr>\n",
       "      <td>2</td>\n",
       "      <td>Agarkar, AB</td>\n",
       "      <td>IND</td>\n",
       "    </tr>\n",
       "    <tr>\n",
       "      <td>3</td>\n",
       "      <td>Ashwin, R</td>\n",
       "      <td>IND</td>\n",
       "    </tr>\n",
       "    <tr>\n",
       "      <td>4</td>\n",
       "      <td>Badrinath, S</td>\n",
       "      <td>IND</td>\n",
       "    </tr>\n",
       "  </tbody>\n",
       "</table>\n",
       "</div>"
      ],
      "text/plain": [
       "    PLAYER NAME COUNTRY\n",
       "0   Abdulla, YA      SA\n",
       "1  Abdur Razzak     BAN\n",
       "2   Agarkar, AB     IND\n",
       "3     Ashwin, R     IND\n",
       "4  Badrinath, S     IND"
      ]
     },
     "execution_count": 115,
     "metadata": {},
     "output_type": "execute_result"
    }
   ],
   "source": [
    "# Display first five players name along wth their country name\n",
    "ipl_auction_df[['PLAYER NAME','COUNTRY']][0:5]"
   ]
  },
  {
   "cell_type": "code",
   "execution_count": 116,
   "metadata": {},
   "outputs": [
    {
     "data": {
      "text/html": [
       "<div>\n",
       "<style scoped>\n",
       "    .dataframe tbody tr th:only-of-type {\n",
       "        vertical-align: middle;\n",
       "    }\n",
       "\n",
       "    .dataframe tbody tr th {\n",
       "        vertical-align: top;\n",
       "    }\n",
       "\n",
       "    .dataframe thead th {\n",
       "        text-align: right;\n",
       "    }\n",
       "</style>\n",
       "<table border=\"1\" class=\"dataframe\">\n",
       "  <thead>\n",
       "    <tr style=\"text-align: right;\">\n",
       "      <th></th>\n",
       "      <th>PLAYER NAME</th>\n",
       "      <th>AGE</th>\n",
       "      <th>COUNTRY</th>\n",
       "    </tr>\n",
       "  </thead>\n",
       "  <tbody>\n",
       "    <tr>\n",
       "      <td>4</td>\n",
       "      <td>Badrinath, S</td>\n",
       "      <td>2</td>\n",
       "      <td>IND</td>\n",
       "    </tr>\n",
       "    <tr>\n",
       "      <td>5</td>\n",
       "      <td>Bailey, GJ</td>\n",
       "      <td>2</td>\n",
       "      <td>AUS</td>\n",
       "    </tr>\n",
       "    <tr>\n",
       "      <td>6</td>\n",
       "      <td>Balaji, L</td>\n",
       "      <td>2</td>\n",
       "      <td>IND</td>\n",
       "    </tr>\n",
       "    <tr>\n",
       "      <td>7</td>\n",
       "      <td>Bollinger, DE</td>\n",
       "      <td>2</td>\n",
       "      <td>AUS</td>\n",
       "    </tr>\n",
       "    <tr>\n",
       "      <td>8</td>\n",
       "      <td>Botha, J</td>\n",
       "      <td>2</td>\n",
       "      <td>SA</td>\n",
       "    </tr>\n",
       "  </tbody>\n",
       "</table>\n",
       "</div>"
      ],
      "text/plain": [
       "     PLAYER NAME  AGE COUNTRY\n",
       "4   Badrinath, S    2     IND\n",
       "5     Bailey, GJ    2     AUS\n",
       "6      Balaji, L    2     IND\n",
       "7  Bollinger, DE    2     AUS\n",
       "8       Botha, J    2      SA"
      ]
     },
     "execution_count": 116,
     "metadata": {},
     "output_type": "execute_result"
    }
   ],
   "source": [
    "# Display data using row index - displaying from 4th player to 8th player\n",
    "ipl_auction_df.iloc[4:9,1:4]"
   ]
  },
  {
   "cell_type": "code",
   "execution_count": 117,
   "metadata": {},
   "outputs": [
    {
     "data": {
      "text/plain": [
       "IND    53\n",
       "AUS    22\n",
       "SA     16\n",
       "SL     12\n",
       "PAK     9\n",
       "NZ      7\n",
       "WI      6\n",
       "ENG     3\n",
       "ZIM     1\n",
       "BAN     1\n",
       "Name: COUNTRY, dtype: int64"
      ]
     },
     "execution_count": 117,
     "metadata": {},
     "output_type": "execute_result"
    }
   ],
   "source": [
    "## Checking the the number of players from each country\n",
    "ipl_auction_df.COUNTRY.value_counts()\n"
   ]
  },
  {
   "cell_type": "code",
   "execution_count": 118,
   "metadata": {},
   "outputs": [
    {
     "data": {
      "text/plain": [
       "IND    40.769231\n",
       "AUS    16.923077\n",
       "SA     12.307692\n",
       "SL      9.230769\n",
       "PAK     6.923077\n",
       "NZ      5.384615\n",
       "WI      4.615385\n",
       "ENG     2.307692\n",
       "ZIM     0.769231\n",
       "BAN     0.769231\n",
       "Name: COUNTRY, dtype: float64"
      ]
     },
     "execution_count": 118,
     "metadata": {},
     "output_type": "execute_result"
    }
   ],
   "source": [
    "## Checking the the number of players from each country in percentage\n",
    "ipl_auction_df.COUNTRY.value_counts(normalize=True)*100"
   ]
  },
  {
   "cell_type": "markdown",
   "metadata": {},
   "source": [
    "### Most Players auctioned are from India"
   ]
  },
  {
   "cell_type": "code",
   "execution_count": 119,
   "metadata": {},
   "outputs": [
    {
     "data": {
      "text/html": [
       "<div>\n",
       "<style scoped>\n",
       "    .dataframe tbody tr th:only-of-type {\n",
       "        vertical-align: middle;\n",
       "    }\n",
       "\n",
       "    .dataframe tbody tr th {\n",
       "        vertical-align: top;\n",
       "    }\n",
       "\n",
       "    .dataframe thead th {\n",
       "        text-align: right;\n",
       "    }\n",
       "</style>\n",
       "<table border=\"1\" class=\"dataframe\">\n",
       "  <thead>\n",
       "    <tr style=\"text-align: right;\">\n",
       "      <th>PLAYING ROLE</th>\n",
       "      <th>Allrounder</th>\n",
       "      <th>Batsman</th>\n",
       "      <th>Bowler</th>\n",
       "      <th>W. Keeper</th>\n",
       "    </tr>\n",
       "    <tr>\n",
       "      <th>AGE</th>\n",
       "      <th></th>\n",
       "      <th></th>\n",
       "      <th></th>\n",
       "      <th></th>\n",
       "    </tr>\n",
       "  </thead>\n",
       "  <tbody>\n",
       "    <tr>\n",
       "      <td>1</td>\n",
       "      <td>4</td>\n",
       "      <td>5</td>\n",
       "      <td>7</td>\n",
       "      <td>0</td>\n",
       "    </tr>\n",
       "    <tr>\n",
       "      <td>2</td>\n",
       "      <td>25</td>\n",
       "      <td>21</td>\n",
       "      <td>29</td>\n",
       "      <td>11</td>\n",
       "    </tr>\n",
       "    <tr>\n",
       "      <td>3</td>\n",
       "      <td>6</td>\n",
       "      <td>13</td>\n",
       "      <td>8</td>\n",
       "      <td>1</td>\n",
       "    </tr>\n",
       "  </tbody>\n",
       "</table>\n",
       "</div>"
      ],
      "text/plain": [
       "PLAYING ROLE  Allrounder  Batsman  Bowler  W. Keeper\n",
       "AGE                                                 \n",
       "1                      4        5       7          0\n",
       "2                     25       21      29         11\n",
       "3                      6       13       8          1"
      ]
     },
     "execution_count": 119,
     "metadata": {},
     "output_type": "execute_result"
    }
   ],
   "source": [
    "# Cross Tabulation of Playing Role and Age from each age category\n",
    "pd.crosstab(ipl_auction_df['AGE'], ipl_auction_df['PLAYING ROLE'])\n"
   ]
  },
  {
   "cell_type": "markdown",
   "metadata": {},
   "source": [
    "### Most Players auctioned are from age category 2. There are more bowlers than any otherplaying roles in category 1 and 2. In category 3, there are more batsman than other playing roles."
   ]
  },
  {
   "cell_type": "code",
   "execution_count": 120,
   "metadata": {},
   "outputs": [
    {
     "data": {
      "text/html": [
       "<div>\n",
       "<style scoped>\n",
       "    .dataframe tbody tr th:only-of-type {\n",
       "        vertical-align: middle;\n",
       "    }\n",
       "\n",
       "    .dataframe tbody tr th {\n",
       "        vertical-align: top;\n",
       "    }\n",
       "\n",
       "    .dataframe thead th {\n",
       "        text-align: right;\n",
       "    }\n",
       "</style>\n",
       "<table border=\"1\" class=\"dataframe\">\n",
       "  <thead>\n",
       "    <tr style=\"text-align: right;\">\n",
       "      <th></th>\n",
       "      <th>PLAYER NAME</th>\n",
       "      <th>SOLD PRICE</th>\n",
       "    </tr>\n",
       "  </thead>\n",
       "  <tbody>\n",
       "    <tr>\n",
       "      <td>93</td>\n",
       "      <td>Sehwag, V</td>\n",
       "      <td>1800000</td>\n",
       "    </tr>\n",
       "    <tr>\n",
       "      <td>127</td>\n",
       "      <td>Yuvraj Singh</td>\n",
       "      <td>1800000</td>\n",
       "    </tr>\n",
       "    <tr>\n",
       "      <td>50</td>\n",
       "      <td>Kohli, V</td>\n",
       "      <td>1800000</td>\n",
       "    </tr>\n",
       "    <tr>\n",
       "      <td>111</td>\n",
       "      <td>Tendulkar, SR</td>\n",
       "      <td>1800000</td>\n",
       "    </tr>\n",
       "    <tr>\n",
       "      <td>113</td>\n",
       "      <td>Tiwary, SS</td>\n",
       "      <td>1600000</td>\n",
       "    </tr>\n",
       "  </tbody>\n",
       "</table>\n",
       "</div>"
      ],
      "text/plain": [
       "       PLAYER NAME  SOLD PRICE\n",
       "93       Sehwag, V     1800000\n",
       "127   Yuvraj Singh     1800000\n",
       "50        Kohli, V     1800000\n",
       "111  Tendulkar, SR     1800000\n",
       "113     Tiwary, SS     1600000"
      ]
     },
     "execution_count": 120,
     "metadata": {},
     "output_type": "execute_result"
    }
   ],
   "source": [
    "# Sort the Players based on Sold price and display the top 5 players\n",
    "ipl_auction_df[['PLAYER NAME','SOLD PRICE']].sort_values('SOLD PRICE', ascending=False)[0:5]"
   ]
  },
  {
   "cell_type": "code",
   "execution_count": 121,
   "metadata": {},
   "outputs": [],
   "source": [
    "# Find who got the maximum premium\n",
    "# Create a new column Premium by taking the difference between sold price and base price\n",
    "ipl_auction_df['Premium'] = ipl_auction_df['SOLD PRICE']- ipl_auction_df['BASE PRICE']"
   ]
  },
  {
   "cell_type": "code",
   "execution_count": 122,
   "metadata": {},
   "outputs": [
    {
     "data": {
      "text/html": [
       "<div>\n",
       "<style scoped>\n",
       "    .dataframe tbody tr th:only-of-type {\n",
       "        vertical-align: middle;\n",
       "    }\n",
       "\n",
       "    .dataframe tbody tr th {\n",
       "        vertical-align: top;\n",
       "    }\n",
       "\n",
       "    .dataframe thead th {\n",
       "        text-align: right;\n",
       "    }\n",
       "</style>\n",
       "<table border=\"1\" class=\"dataframe\">\n",
       "  <thead>\n",
       "    <tr style=\"text-align: right;\">\n",
       "      <th></th>\n",
       "      <th>PLAYER NAME</th>\n",
       "      <th>SOLD PRICE</th>\n",
       "      <th>BASE PRICE</th>\n",
       "      <th>Premium</th>\n",
       "    </tr>\n",
       "  </thead>\n",
       "  <tbody>\n",
       "    <tr>\n",
       "      <td>0</td>\n",
       "      <td>Abdulla, YA</td>\n",
       "      <td>50000</td>\n",
       "      <td>50000</td>\n",
       "      <td>0</td>\n",
       "    </tr>\n",
       "    <tr>\n",
       "      <td>1</td>\n",
       "      <td>Abdur Razzak</td>\n",
       "      <td>50000</td>\n",
       "      <td>50000</td>\n",
       "      <td>0</td>\n",
       "    </tr>\n",
       "    <tr>\n",
       "      <td>2</td>\n",
       "      <td>Agarkar, AB</td>\n",
       "      <td>350000</td>\n",
       "      <td>200000</td>\n",
       "      <td>150000</td>\n",
       "    </tr>\n",
       "    <tr>\n",
       "      <td>3</td>\n",
       "      <td>Ashwin, R</td>\n",
       "      <td>850000</td>\n",
       "      <td>100000</td>\n",
       "      <td>750000</td>\n",
       "    </tr>\n",
       "    <tr>\n",
       "      <td>4</td>\n",
       "      <td>Badrinath, S</td>\n",
       "      <td>800000</td>\n",
       "      <td>100000</td>\n",
       "      <td>700000</td>\n",
       "    </tr>\n",
       "  </tbody>\n",
       "</table>\n",
       "</div>"
      ],
      "text/plain": [
       "    PLAYER NAME  SOLD PRICE  BASE PRICE  Premium\n",
       "0   Abdulla, YA       50000       50000        0\n",
       "1  Abdur Razzak       50000       50000        0\n",
       "2   Agarkar, AB      350000      200000   150000\n",
       "3     Ashwin, R      850000      100000   750000\n",
       "4  Badrinath, S      800000      100000   700000"
      ]
     },
     "execution_count": 122,
     "metadata": {},
     "output_type": "execute_result"
    }
   ],
   "source": [
    "ipl_auction_df[['PLAYER NAME','SOLD PRICE', 'BASE PRICE','Premium']][0:5]"
   ]
  },
  {
   "cell_type": "code",
   "execution_count": 123,
   "metadata": {},
   "outputs": [
    {
     "data": {
      "text/plain": [
       "AGE\n",
       "1    720250.000000\n",
       "2    484534.883721\n",
       "3    520178.571429\n",
       "Name: SOLD PRICE, dtype: float64"
      ]
     },
     "execution_count": 123,
     "metadata": {},
     "output_type": "execute_result"
    }
   ],
   "source": [
    "# Finding Average Sold price for each age category\n",
    "ipl_auction_df.groupby('AGE')['SOLD PRICE'].mean()"
   ]
  },
  {
   "cell_type": "markdown",
   "metadata": {},
   "source": [
    "### The average price is high in Category 1 and lowest in category 2"
   ]
  },
  {
   "cell_type": "code",
   "execution_count": 124,
   "metadata": {},
   "outputs": [
    {
     "data": {
      "text/plain": [
       "PLAYING ROLE\n",
       "Allrounder    519571.428571\n",
       "Batsman       647435.897436\n",
       "Bowler        419977.272727\n",
       "W. Keeper     487083.333333\n",
       "Name: SOLD PRICE, dtype: float64"
      ]
     },
     "execution_count": 124,
     "metadata": {},
     "output_type": "execute_result"
    }
   ],
   "source": [
    "# Finding Average Sold price for each playing role \n",
    "ipl_auction_df.groupby('PLAYING ROLE')['SOLD PRICE'].mean()"
   ]
  },
  {
   "cell_type": "markdown",
   "metadata": {},
   "source": [
    "### The average price is high for Batsman and lowest for Bowler"
   ]
  },
  {
   "cell_type": "code",
   "execution_count": 125,
   "metadata": {},
   "outputs": [
    {
     "data": {
      "text/html": [
       "<div>\n",
       "<style scoped>\n",
       "    .dataframe tbody tr th:only-of-type {\n",
       "        vertical-align: middle;\n",
       "    }\n",
       "\n",
       "    .dataframe tbody tr th {\n",
       "        vertical-align: top;\n",
       "    }\n",
       "\n",
       "    .dataframe thead th {\n",
       "        text-align: right;\n",
       "    }\n",
       "</style>\n",
       "<table border=\"1\" class=\"dataframe\">\n",
       "  <thead>\n",
       "    <tr style=\"text-align: right;\">\n",
       "      <th></th>\n",
       "      <th>PLAYER NAME</th>\n",
       "      <th>SIXERS</th>\n",
       "    </tr>\n",
       "  </thead>\n",
       "  <tbody>\n",
       "    <tr>\n",
       "      <td>26</td>\n",
       "      <td>Gayle, CH</td>\n",
       "      <td>129</td>\n",
       "    </tr>\n",
       "    <tr>\n",
       "      <td>28</td>\n",
       "      <td>Gilchrist, AC</td>\n",
       "      <td>86</td>\n",
       "    </tr>\n",
       "    <tr>\n",
       "      <td>82</td>\n",
       "      <td>Pathan, YK</td>\n",
       "      <td>81</td>\n",
       "    </tr>\n",
       "    <tr>\n",
       "      <td>88</td>\n",
       "      <td>Raina, SK</td>\n",
       "      <td>97</td>\n",
       "    </tr>\n",
       "    <tr>\n",
       "      <td>97</td>\n",
       "      <td>Sharma, RG</td>\n",
       "      <td>82</td>\n",
       "    </tr>\n",
       "  </tbody>\n",
       "</table>\n",
       "</div>"
      ],
      "text/plain": [
       "      PLAYER NAME  SIXERS\n",
       "26      Gayle, CH     129\n",
       "28  Gilchrist, AC      86\n",
       "82     Pathan, YK      81\n",
       "88      Raina, SK      97\n",
       "97     Sharma, RG      82"
      ]
     },
     "execution_count": 125,
     "metadata": {},
     "output_type": "execute_result"
    }
   ],
   "source": [
    "# Find Player who hit more than 80 sixers in IPL tournament\n",
    "ipl_auction_df[ipl_auction_df['SIXERS']>80][['PLAYER NAME','SIXERS']]"
   ]
  },
  {
   "cell_type": "code",
   "execution_count": 126,
   "metadata": {},
   "outputs": [],
   "source": [
    "# Drop Sl.NO as we don't need it for EDA\n",
    "ipl_auction_df.drop('Sl.NO.', inplace=True, axis=1)"
   ]
  },
  {
   "cell_type": "code",
   "execution_count": 127,
   "metadata": {},
   "outputs": [
    {
     "data": {
      "text/html": [
       "<div>\n",
       "<style scoped>\n",
       "    .dataframe tbody tr th:only-of-type {\n",
       "        vertical-align: middle;\n",
       "    }\n",
       "\n",
       "    .dataframe tbody tr th {\n",
       "        vertical-align: top;\n",
       "    }\n",
       "\n",
       "    .dataframe thead th {\n",
       "        text-align: right;\n",
       "    }\n",
       "</style>\n",
       "<table border=\"1\" class=\"dataframe\">\n",
       "  <thead>\n",
       "    <tr style=\"text-align: right;\">\n",
       "      <th></th>\n",
       "      <th>PLAYER NAME</th>\n",
       "      <th>AGE</th>\n",
       "      <th>COUNTRY</th>\n",
       "      <th>TEAM</th>\n",
       "      <th>PLAYING ROLE</th>\n",
       "      <th>T-RUNS</th>\n",
       "      <th>T-WKTS</th>\n",
       "      <th>ODI-RUNS-S</th>\n",
       "      <th>ODI-SR-B</th>\n",
       "      <th>ODI-WKTS</th>\n",
       "      <th>...</th>\n",
       "      <th>SIXERS</th>\n",
       "      <th>RUNS-C</th>\n",
       "      <th>WKTS</th>\n",
       "      <th>AVE-BL</th>\n",
       "      <th>ECON</th>\n",
       "      <th>SR-BL</th>\n",
       "      <th>AUCTION YEAR</th>\n",
       "      <th>BASE PRICE</th>\n",
       "      <th>SOLD PRICE</th>\n",
       "      <th>Premium</th>\n",
       "    </tr>\n",
       "  </thead>\n",
       "  <tbody>\n",
       "    <tr>\n",
       "      <td>0</td>\n",
       "      <td>Abdulla, YA</td>\n",
       "      <td>2</td>\n",
       "      <td>SA</td>\n",
       "      <td>KXIP</td>\n",
       "      <td>Allrounder</td>\n",
       "      <td>0</td>\n",
       "      <td>0</td>\n",
       "      <td>0</td>\n",
       "      <td>0.00</td>\n",
       "      <td>0</td>\n",
       "      <td>...</td>\n",
       "      <td>0</td>\n",
       "      <td>307</td>\n",
       "      <td>15</td>\n",
       "      <td>20.47</td>\n",
       "      <td>8.90</td>\n",
       "      <td>13.93</td>\n",
       "      <td>2009</td>\n",
       "      <td>50000</td>\n",
       "      <td>50000</td>\n",
       "      <td>0</td>\n",
       "    </tr>\n",
       "    <tr>\n",
       "      <td>1</td>\n",
       "      <td>Abdur Razzak</td>\n",
       "      <td>2</td>\n",
       "      <td>BAN</td>\n",
       "      <td>RCB</td>\n",
       "      <td>Bowler</td>\n",
       "      <td>214</td>\n",
       "      <td>18</td>\n",
       "      <td>657</td>\n",
       "      <td>71.41</td>\n",
       "      <td>185</td>\n",
       "      <td>...</td>\n",
       "      <td>0</td>\n",
       "      <td>29</td>\n",
       "      <td>0</td>\n",
       "      <td>0.00</td>\n",
       "      <td>14.50</td>\n",
       "      <td>0.00</td>\n",
       "      <td>2008</td>\n",
       "      <td>50000</td>\n",
       "      <td>50000</td>\n",
       "      <td>0</td>\n",
       "    </tr>\n",
       "    <tr>\n",
       "      <td>2</td>\n",
       "      <td>Agarkar, AB</td>\n",
       "      <td>2</td>\n",
       "      <td>IND</td>\n",
       "      <td>KKR</td>\n",
       "      <td>Bowler</td>\n",
       "      <td>571</td>\n",
       "      <td>58</td>\n",
       "      <td>1269</td>\n",
       "      <td>80.62</td>\n",
       "      <td>288</td>\n",
       "      <td>...</td>\n",
       "      <td>5</td>\n",
       "      <td>1059</td>\n",
       "      <td>29</td>\n",
       "      <td>36.52</td>\n",
       "      <td>8.81</td>\n",
       "      <td>24.90</td>\n",
       "      <td>2008</td>\n",
       "      <td>200000</td>\n",
       "      <td>350000</td>\n",
       "      <td>150000</td>\n",
       "    </tr>\n",
       "    <tr>\n",
       "      <td>3</td>\n",
       "      <td>Ashwin, R</td>\n",
       "      <td>1</td>\n",
       "      <td>IND</td>\n",
       "      <td>CSK</td>\n",
       "      <td>Bowler</td>\n",
       "      <td>284</td>\n",
       "      <td>31</td>\n",
       "      <td>241</td>\n",
       "      <td>84.56</td>\n",
       "      <td>51</td>\n",
       "      <td>...</td>\n",
       "      <td>0</td>\n",
       "      <td>1125</td>\n",
       "      <td>49</td>\n",
       "      <td>22.96</td>\n",
       "      <td>6.23</td>\n",
       "      <td>22.14</td>\n",
       "      <td>2011</td>\n",
       "      <td>100000</td>\n",
       "      <td>850000</td>\n",
       "      <td>750000</td>\n",
       "    </tr>\n",
       "    <tr>\n",
       "      <td>4</td>\n",
       "      <td>Badrinath, S</td>\n",
       "      <td>2</td>\n",
       "      <td>IND</td>\n",
       "      <td>CSK</td>\n",
       "      <td>Batsman</td>\n",
       "      <td>63</td>\n",
       "      <td>0</td>\n",
       "      <td>79</td>\n",
       "      <td>45.93</td>\n",
       "      <td>0</td>\n",
       "      <td>...</td>\n",
       "      <td>28</td>\n",
       "      <td>0</td>\n",
       "      <td>0</td>\n",
       "      <td>0.00</td>\n",
       "      <td>0.00</td>\n",
       "      <td>0.00</td>\n",
       "      <td>2011</td>\n",
       "      <td>100000</td>\n",
       "      <td>800000</td>\n",
       "      <td>700000</td>\n",
       "    </tr>\n",
       "  </tbody>\n",
       "</table>\n",
       "<p>5 rows × 26 columns</p>\n",
       "</div>"
      ],
      "text/plain": [
       "    PLAYER NAME  AGE COUNTRY  TEAM PLAYING ROLE  T-RUNS  T-WKTS  ODI-RUNS-S  \\\n",
       "0   Abdulla, YA    2      SA  KXIP   Allrounder       0       0           0   \n",
       "1  Abdur Razzak    2     BAN   RCB       Bowler     214      18         657   \n",
       "2   Agarkar, AB    2     IND   KKR       Bowler     571      58        1269   \n",
       "3     Ashwin, R    1     IND   CSK       Bowler     284      31         241   \n",
       "4  Badrinath, S    2     IND   CSK      Batsman      63       0          79   \n",
       "\n",
       "   ODI-SR-B  ODI-WKTS  ...  SIXERS  RUNS-C  WKTS  AVE-BL   ECON  SR-BL  \\\n",
       "0      0.00         0  ...       0     307    15   20.47   8.90  13.93   \n",
       "1     71.41       185  ...       0      29     0    0.00  14.50   0.00   \n",
       "2     80.62       288  ...       5    1059    29   36.52   8.81  24.90   \n",
       "3     84.56        51  ...       0    1125    49   22.96   6.23  22.14   \n",
       "4     45.93         0  ...      28       0     0    0.00   0.00   0.00   \n",
       "\n",
       "   AUCTION YEAR  BASE PRICE  SOLD PRICE  Premium  \n",
       "0          2009       50000       50000        0  \n",
       "1          2008       50000       50000        0  \n",
       "2          2008      200000      350000   150000  \n",
       "3          2011      100000      850000   750000  \n",
       "4          2011      100000      800000   700000  \n",
       "\n",
       "[5 rows x 26 columns]"
      ]
     },
     "execution_count": 127,
     "metadata": {},
     "output_type": "execute_result"
    }
   ],
   "source": [
    "ipl_auction_df.head()"
   ]
  },
  {
   "cell_type": "markdown",
   "metadata": {},
   "source": [
    "## 1.5 Exploration of Data using Data Visualization"
   ]
  },
  {
   "cell_type": "code",
   "execution_count": 128,
   "metadata": {},
   "outputs": [
    {
     "data": {
      "image/png": "[encoded data removed]",
      "text/plain": [
       "<Figure size 432x288 with 1 Axes>"
      ]
     },
     "metadata": {
      "needs_background": "light"
     },
     "output_type": "display_data"
    }
   ],
   "source": [
    "## Display Average Sold Price by Age category\n",
    "sold_price_by_age = ipl_auction_df.groupby('AGE')['SOLD PRICE'].mean().reset_index()\n",
    "sn.barplot(x='AGE', y='SOLD PRICE', data= sold_price_by_age);"
   ]
  },
  {
   "cell_type": "code",
   "execution_count": 129,
   "metadata": {},
   "outputs": [
    {
     "data": {
      "text/plain": [
       "(array([16., 11., 16., 16.,  9., 12.,  5., 15.,  8.,  6.,  6.,  1.,  0.,\n",
       "         0.,  1.,  0.,  1.,  3.,  0.,  4.]),\n",
       " array([  20000.,  109000.,  198000.,  287000.,  376000.,  465000.,\n",
       "         554000.,  643000.,  732000.,  821000.,  910000.,  999000.,\n",
       "        1088000., 1177000., 1266000., 1355000., 1444000., 1533000.,\n",
       "        1622000., 1711000., 1800000.]),\n",
       " <a list of 20 Patch objects>)"
      ]
     },
     "execution_count": 129,
     "metadata": {},
     "output_type": "execute_result"
    },
    {
     "data": {
      "image/png": "[encoded data removed]",
      "text/plain": [
       "<Figure size 432x288 with 1 Axes>"
      ]
     },
     "metadata": {
      "needs_background": "light"
     },
     "output_type": "display_data"
    }
   ],
   "source": [
    "# Histogram for SOLD PRice\n",
    "plt.hist(ipl_auction_df['SOLD PRICE'], bins=20)"
   ]
  },
  {
   "cell_type": "code",
   "execution_count": 130,
   "metadata": {},
   "outputs": [
    {
     "data": {
      "text/plain": [
       "<matplotlib.axes._subplots.AxesSubplot at 0x7f64c3a8ac10>"
      ]
     },
     "execution_count": 130,
     "metadata": {},
     "output_type": "execute_result"
    },
    {
     "data": {
      "image/png": "[encoded data removed]",
      "text/plain": [
       "<Figure size 432x288 with 1 Axes>"
      ]
     },
     "metadata": {
      "needs_background": "light"
     },
     "output_type": "display_data"
    }
   ],
   "source": [
    "# Distribution or density plot- it depicts the distribution of data over the continuous interval\n",
    "sn.distplot(ipl_auction_df['SOLD PRICE'])"
   ]
  },
  {
   "cell_type": "code",
   "execution_count": 131,
   "metadata": {},
   "outputs": [
    {
     "data": {
      "text/plain": [
       "<matplotlib.axes._subplots.AxesSubplot at 0x7f64c3b64310>"
      ]
     },
     "execution_count": 131,
     "metadata": {},
     "output_type": "execute_result"
    },
    {
     "data": {
      "image/png": "[encoded data removed]",
      "text/plain": [
       "<Figure size 432x288 with 1 Axes>"
      ]
     },
     "metadata": {
      "needs_background": "light"
     },
     "output_type": "display_data"
    }
   ],
   "source": [
    "# Variabilty of data and existence of outliers can be checked with the help of box plot\n",
    "sn.boxplot(ipl_auction_df['SOLD PRICE'])"
   ]
  },
  {
   "cell_type": "code",
   "execution_count": 132,
   "metadata": {},
   "outputs": [
    {
     "data": {
      "image/png": "[encoded data removed]",
      "text/plain": [
       "<Figure size 432x288 with 1 Axes>"
      ]
     },
     "metadata": {
      "needs_background": "light"
     },
     "output_type": "display_data"
    }
   ],
   "source": [
    "box= plt.boxplot(ipl_auction_df['SOLD PRICE'])"
   ]
  },
  {
   "cell_type": "code",
   "execution_count": 133,
   "metadata": {},
   "outputs": [
    {
     "data": {
      "text/plain": [
       "[20000.0, 1350000.0]"
      ]
     },
     "execution_count": 133,
     "metadata": {},
     "output_type": "execute_result"
    }
   ],
   "source": [
    "# Obtain min nd max prices\n",
    "[item.get_ydata()[0] for item in box['caps']]"
   ]
  },
  {
   "cell_type": "code",
   "execution_count": 134,
   "metadata": {},
   "outputs": [
    {
     "data": {
      "text/plain": [
       "[225000.0, 700000.0]"
      ]
     },
     "execution_count": 134,
     "metadata": {},
     "output_type": "execute_result"
    }
   ],
   "source": [
    "# Obtain 25 and 75 quantiles\n",
    "[item.get_ydata()[0] for item in box['whiskers']]"
   ]
  },
  {
   "cell_type": "code",
   "execution_count": 135,
   "metadata": {},
   "outputs": [
    {
     "data": {
      "text/plain": [
       "[437500.0]"
      ]
     },
     "execution_count": 135,
     "metadata": {},
     "output_type": "execute_result"
    }
   ],
   "source": [
    "# Obtain Inter-Quartile Range -IQR\n",
    "[item.get_ydata()[0] for item in box['medians']]"
   ]
  },
  {
   "cell_type": "code",
   "execution_count": 136,
   "metadata": {},
   "outputs": [
    {
     "data": {
      "text/html": [
       "<div>\n",
       "<style scoped>\n",
       "    .dataframe tbody tr th:only-of-type {\n",
       "        vertical-align: middle;\n",
       "    }\n",
       "\n",
       "    .dataframe tbody tr th {\n",
       "        vertical-align: top;\n",
       "    }\n",
       "\n",
       "    .dataframe thead th {\n",
       "        text-align: right;\n",
       "    }\n",
       "</style>\n",
       "<table border=\"1\" class=\"dataframe\">\n",
       "  <thead>\n",
       "    <tr style=\"text-align: right;\">\n",
       "      <th></th>\n",
       "      <th>PLAYER NAME</th>\n",
       "      <th>PLAYING ROLE</th>\n",
       "      <th>SOLD PRICE</th>\n",
       "    </tr>\n",
       "  </thead>\n",
       "  <tbody>\n",
       "    <tr>\n",
       "      <td>15</td>\n",
       "      <td>Dhoni, MS</td>\n",
       "      <td>W. Keeper</td>\n",
       "      <td>1500000</td>\n",
       "    </tr>\n",
       "    <tr>\n",
       "      <td>23</td>\n",
       "      <td>Flintoff, A</td>\n",
       "      <td>Allrounder</td>\n",
       "      <td>1550000</td>\n",
       "    </tr>\n",
       "    <tr>\n",
       "      <td>50</td>\n",
       "      <td>Kohli, V</td>\n",
       "      <td>Batsman</td>\n",
       "      <td>1800000</td>\n",
       "    </tr>\n",
       "    <tr>\n",
       "      <td>83</td>\n",
       "      <td>Pietersen, KP</td>\n",
       "      <td>Batsman</td>\n",
       "      <td>1550000</td>\n",
       "    </tr>\n",
       "    <tr>\n",
       "      <td>93</td>\n",
       "      <td>Sehwag, V</td>\n",
       "      <td>Batsman</td>\n",
       "      <td>1800000</td>\n",
       "    </tr>\n",
       "    <tr>\n",
       "      <td>111</td>\n",
       "      <td>Tendulkar, SR</td>\n",
       "      <td>Batsman</td>\n",
       "      <td>1800000</td>\n",
       "    </tr>\n",
       "    <tr>\n",
       "      <td>113</td>\n",
       "      <td>Tiwary, SS</td>\n",
       "      <td>Batsman</td>\n",
       "      <td>1600000</td>\n",
       "    </tr>\n",
       "    <tr>\n",
       "      <td>127</td>\n",
       "      <td>Yuvraj Singh</td>\n",
       "      <td>Batsman</td>\n",
       "      <td>1800000</td>\n",
       "    </tr>\n",
       "  </tbody>\n",
       "</table>\n",
       "</div>"
      ],
      "text/plain": [
       "       PLAYER NAME PLAYING ROLE  SOLD PRICE\n",
       "15       Dhoni, MS    W. Keeper     1500000\n",
       "23     Flintoff, A   Allrounder     1550000\n",
       "50        Kohli, V      Batsman     1800000\n",
       "83   Pietersen, KP      Batsman     1550000\n",
       "93       Sehwag, V      Batsman     1800000\n",
       "111  Tendulkar, SR      Batsman     1800000\n",
       "113     Tiwary, SS      Batsman     1600000\n",
       "127   Yuvraj Singh      Batsman     1800000"
      ]
     },
     "execution_count": 136,
     "metadata": {},
     "output_type": "execute_result"
    }
   ],
   "source": [
    "# The box plot above shows outliers wuth some high sold price. Find the name of those players\n",
    "ipl_auction_df[ipl_auction_df['SOLD PRICE']>1350000.0][['PLAYER NAME','PLAYING ROLE','SOLD PRICE']]\n"
   ]
  },
  {
   "cell_type": "code",
   "execution_count": 137,
   "metadata": {},
   "outputs": [
    {
     "data": {
      "text/plain": [
       "<matplotlib.axes._subplots.AxesSubplot at 0x7f64c30ab4d0>"
      ]
     },
     "execution_count": 137,
     "metadata": {},
     "output_type": "execute_result"
    },
    {
     "data": {
      "image/png": "[encoded data removed]",
      "text/plain": [
       "<Figure size 432x288 with 1 Axes>"
      ]
     },
     "metadata": {
      "needs_background": "light"
     },
     "output_type": "display_data"
    }
   ],
   "source": [
    "# Compare SOLD Price with and without Captaincy Exp\n",
    "sn.distplot(ipl_auction_df[ipl_auction_df['CAPTAINCY EXP']== 1]['SOLD PRICE'], color='b', label='Captaincy Exp')\n",
    "sn.distplot(ipl_auction_df[ipl_auction_df['CAPTAINCY EXP']== 0]['SOLD PRICE'], color='r', label='No Captaincy Exp')"
   ]
  },
  {
   "cell_type": "code",
   "execution_count": 138,
   "metadata": {},
   "outputs": [
    {
     "data": {
      "text/plain": [
       "<matplotlib.axes._subplots.AxesSubplot at 0x7f64c3077d90>"
      ]
     },
     "execution_count": 138,
     "metadata": {},
     "output_type": "execute_result"
    },
    {
     "data": {
      "image/png": "[encoded data removed]",
      "text/plain": [
       "<Figure size 432x288 with 1 Axes>"
      ]
     },
     "metadata": {
      "needs_background": "light"
     },
     "output_type": "display_data"
    }
   ],
   "source": [
    "# Comparing sold price for players with different playing role\n",
    "sn.boxplot(x= 'PLAYING ROLE', y='SOLD PRICE', data = ipl_auction_df)"
   ]
  },
  {
   "cell_type": "markdown",
   "metadata": {},
   "source": [
    "## Encoding Categorical Features"
   ]
  },
  {
   "cell_type": "code",
   "execution_count": 139,
   "metadata": {},
   "outputs": [
    {
     "data": {
      "text/plain": [
       "Index(['PLAYER NAME', 'AGE', 'COUNTRY', 'TEAM', 'PLAYING ROLE', 'T-RUNS',\n",
       "       'T-WKTS', 'ODI-RUNS-S', 'ODI-SR-B', 'ODI-WKTS', 'ODI-SR-BL',\n",
       "       'CAPTAINCY EXP', 'RUNS-S', 'HS ', 'AVE', 'SR -B', 'SIXERS', 'RUNS-C',\n",
       "       'WKTS', 'AVE-BL', 'ECON', 'SR-BL', 'AUCTION YEAR', 'BASE PRICE',\n",
       "       'SOLD PRICE', 'Premium'],\n",
       "      dtype='object')"
      ]
     },
     "execution_count": 139,
     "metadata": {},
     "output_type": "execute_result"
    }
   ],
   "source": [
    "ipl_auction_df.columns"
   ]
  },
  {
   "cell_type": "code",
   "execution_count": 140,
   "metadata": {},
   "outputs": [],
   "source": [
    "X_Features =['AGE', 'COUNTRY', 'PLAYING ROLE', 'T-RUNS','T-WKTS', 'ODI-RUNS-S', 'ODI-SR-B', 'ODI-WKTS', 'ODI-SR-BL',\n",
    "             'CAPTAINCY EXP', 'RUNS-S', 'HS ', 'AVE', 'SR -B', 'SIXERS', 'RUNS-C','WKTS', 'AVE-BL', 'ECON', 'SR-BL']"
   ]
  },
  {
   "cell_type": "code",
   "execution_count": 141,
   "metadata": {},
   "outputs": [],
   "source": [
    "categorical_features = ['AGE', 'COUNTRY', 'PLAYING ROLE', 'CAPTAINCY EXP']"
   ]
  },
  {
   "cell_type": "code",
   "execution_count": 142,
   "metadata": {},
   "outputs": [],
   "source": [
    "ipl_auction_encoded_df = pd.get_dummies(ipl_auction_df[X_Features], columns=categorical_features, drop_first=True )"
   ]
  },
  {
   "cell_type": "code",
   "execution_count": 143,
   "metadata": {},
   "outputs": [
    {
     "data": {
      "text/plain": [
       "Index(['PLAYER NAME', 'AGE', 'COUNTRY', 'TEAM', 'PLAYING ROLE', 'T-RUNS',\n",
       "       'T-WKTS', 'ODI-RUNS-S', 'ODI-SR-B', 'ODI-WKTS', 'ODI-SR-BL',\n",
       "       'CAPTAINCY EXP', 'RUNS-S', 'HS ', 'AVE', 'SR -B', 'SIXERS', 'RUNS-C',\n",
       "       'WKTS', 'AVE-BL', 'ECON', 'SR-BL', 'AUCTION YEAR', 'BASE PRICE',\n",
       "       'SOLD PRICE', 'Premium'],\n",
       "      dtype='object')"
      ]
     },
     "execution_count": 143,
     "metadata": {},
     "output_type": "execute_result"
    }
   ],
   "source": [
    "ipl_auction_df.columns"
   ]
  },
  {
   "cell_type": "code",
   "execution_count": 169,
   "metadata": {},
   "outputs": [],
   "source": [
    "X_Features =ipl_auction_encoded_df.columns"
   ]
  },
  {
   "cell_type": "markdown",
   "metadata": {},
   "source": [
    "## Splitting the data set into training and test sets"
   ]
  },
  {
   "cell_type": "code",
   "execution_count": 170,
   "metadata": {},
   "outputs": [],
   "source": [
    "from sklearn.model_selection import train_test_split"
   ]
  },
  {
   "cell_type": "code",
   "execution_count": 171,
   "metadata": {},
   "outputs": [],
   "source": [
    "import statsmodels.api as sm"
   ]
  },
  {
   "cell_type": "code",
   "execution_count": 172,
   "metadata": {},
   "outputs": [],
   "source": [
    "X= sm.add_constant(ipl_auction_encoded_df)\n",
    "Y= ipl_auction_df['SOLD PRICE']\n",
    "X_train, X_test, y_train, y_test = train_test_split(X, Y, train_size=0.8, random_state=42)"
   ]
  },
  {
   "cell_type": "code",
   "execution_count": 173,
   "metadata": {},
   "outputs": [],
   "source": [
    "ipl_model = sm.OLS(y_train, X_train).fit()"
   ]
  },
  {
   "cell_type": "code",
   "execution_count": 174,
   "metadata": {},
   "outputs": [
    {
     "data": {
      "text/html": [
       "<table class=\"simpletable\">\n",
       "<tr>\n",
       "        <td>Model:</td>               <td>OLS</td>         <td>Adj. R-squared:</td>      <td>0.362</td>  \n",
       "</tr>\n",
       "<tr>\n",
       "  <td>Dependent Variable:</td>    <td>SOLD PRICE</td>           <td>AIC:</td>          <td>2965.2841</td>\n",
       "</tr>\n",
       "<tr>\n",
       "         <td>Date:</td>        <td>2019-12-03 13:41</td>        <td>BIC:</td>          <td>3049.9046</td>\n",
       "</tr>\n",
       "<tr>\n",
       "   <td>No. Observations:</td>         <td>104</td>         <td>Log-Likelihood:</td>     <td>-1450.6</td> \n",
       "</tr>\n",
       "<tr>\n",
       "       <td>Df Model:</td>             <td>31</td>           <td>F-statistic:</td>        <td>2.883</td>  \n",
       "</tr>\n",
       "<tr>\n",
       "     <td>Df Residuals:</td>           <td>72</td>        <td>Prob (F-statistic):</td>  <td>0.000114</td> \n",
       "</tr>\n",
       "<tr>\n",
       "      <td>R-squared:</td>            <td>0.554</td>            <td>Scale:</td>        <td>1.1034e+11</td>\n",
       "</tr>\n",
       "</table>\n",
       "<table class=\"simpletable\">\n",
       "<tr>\n",
       "             <td></td>                <th>Coef.</th>     <th>Std.Err.</th>      <th>t</th>     <th>P>|t|</th>    <th>[0.025</th>       <th>0.975]</th>   \n",
       "</tr>\n",
       "<tr>\n",
       "  <th>const</th>                   <td>375827.1991</td> <td>228849.9306</td> <td>1.6422</td>  <td>0.1049</td>  <td>-80376.7996</td>  <td>832031.1978</td>\n",
       "</tr>\n",
       "<tr>\n",
       "  <th>T-RUNS</th>                   <td>-53.7890</td>     <td>32.7172</td>   <td>-1.6441</td> <td>0.1045</td>   <td>-119.0096</td>     <td>11.4316</td>  \n",
       "</tr>\n",
       "<tr>\n",
       "  <th>T-WKTS</th>                   <td>-132.5967</td>   <td>609.7525</td>   <td>-0.2175</td> <td>0.8285</td>  <td>-1348.1162</td>    <td>1082.9228</td> \n",
       "</tr>\n",
       "<tr>\n",
       "  <th>ODI-RUNS-S</th>                <td>57.9600</td>     <td>31.5071</td>   <td>1.8396</td>  <td>0.0700</td>    <td>-4.8482</td>     <td>120.7681</td>  \n",
       "</tr>\n",
       "<tr>\n",
       "  <th>ODI-SR-B</th>                 <td>-524.1450</td>   <td>1576.6368</td>  <td>-0.3324</td> <td>0.7405</td>  <td>-3667.1130</td>    <td>2618.8231</td> \n",
       "</tr>\n",
       "<tr>\n",
       "  <th>ODI-WKTS</th>                 <td>815.3944</td>    <td>832.3883</td>   <td>0.9796</td>  <td>0.3306</td>   <td>-843.9413</td>    <td>2474.7301</td> \n",
       "</tr>\n",
       "<tr>\n",
       "  <th>ODI-SR-BL</th>                <td>-773.3092</td>   <td>1536.3334</td>  <td>-0.5033</td> <td>0.6163</td>  <td>-3835.9338</td>    <td>2289.3154</td> \n",
       "</tr>\n",
       "<tr>\n",
       "  <th>RUNS-S</th>                   <td>114.7205</td>    <td>173.3088</td>   <td>0.6619</td>  <td>0.5101</td>   <td>-230.7643</td>    <td>460.2054</td>  \n",
       "</tr>\n",
       "<tr>\n",
       "  <th>HS </th>                     <td>-5516.3354</td>   <td>2586.3277</td>  <td>-2.1329</td> <td>0.0363</td>  <td>-10672.0855</td>   <td>-360.5853</td> \n",
       "</tr>\n",
       "<tr>\n",
       "  <th>AVE</th>                     <td>21560.2760</td>   <td>7774.2419</td>  <td>2.7733</td>  <td>0.0071</td>   <td>6062.6080</td>   <td>37057.9439</td> \n",
       "</tr>\n",
       "<tr>\n",
       "  <th>SR -B</th>                   <td>-1324.7218</td>   <td>1373.1303</td>  <td>-0.9647</td> <td>0.3379</td>  <td>-4062.0071</td>    <td>1412.5635</td> \n",
       "</tr>\n",
       "<tr>\n",
       "  <th>SIXERS</th>                   <td>4264.1001</td>   <td>4089.6000</td>  <td>1.0427</td>  <td>0.3006</td>  <td>-3888.3685</td>   <td>12416.5687</td> \n",
       "</tr>\n",
       "<tr>\n",
       "  <th>RUNS-C</th>                    <td>69.8250</td>    <td>297.6697</td>   <td>0.2346</td>  <td>0.8152</td>   <td>-523.5687</td>    <td>663.2187</td>  \n",
       "</tr>\n",
       "<tr>\n",
       "  <th>WKTS</th>                     <td>3075.2422</td>   <td>7262.4452</td>  <td>0.4234</td>  <td>0.6732</td>  <td>-11402.1778</td>  <td>17552.6622</td> \n",
       "</tr>\n",
       "<tr>\n",
       "  <th>AVE-BL</th>                   <td>5182.9335</td>  <td>10230.1581</td>  <td>0.5066</td>  <td>0.6140</td>  <td>-15210.5140</td>  <td>25576.3810</td> \n",
       "</tr>\n",
       "<tr>\n",
       "  <th>ECON</th>                    <td>-6820.7781</td>  <td>13109.3693</td>  <td>-0.5203</td> <td>0.6045</td>  <td>-32953.8282</td>  <td>19312.2721</td> \n",
       "</tr>\n",
       "<tr>\n",
       "  <th>SR-BL</th>                   <td>-7658.8094</td>  <td>14041.8735</td>  <td>-0.5454</td> <td>0.5871</td>  <td>-35650.7726</td>  <td>20333.1539</td> \n",
       "</tr>\n",
       "<tr>\n",
       "  <th>AGE_2</th>                  <td>-230767.6463</td> <td>114117.2005</td> <td>-2.0222</td> <td>0.0469</td> <td>-458256.1279</td>  <td>-3279.1648</td> \n",
       "</tr>\n",
       "<tr>\n",
       "  <th>AGE_3</th>                  <td>-216827.0808</td> <td>152246.6232</td> <td>-1.4242</td> <td>0.1587</td> <td>-520325.1772</td>  <td>86671.0155</td> \n",
       "</tr>\n",
       "<tr>\n",
       "  <th>COUNTRY_BAN</th>            <td>-122103.5196</td> <td>438719.2796</td> <td>-0.2783</td> <td>0.7816</td> <td>-996674.4194</td>  <td>752467.3801</td>\n",
       "</tr>\n",
       "<tr>\n",
       "  <th>COUNTRY_ENG</th>             <td>672410.7654</td> <td>238386.2220</td> <td>2.8207</td>  <td>0.0062</td>  <td>197196.5172</td> <td>1147625.0135</td>\n",
       "</tr>\n",
       "<tr>\n",
       "  <th>COUNTRY_IND</th>             <td>155306.4011</td> <td>126316.3449</td> <td>1.2295</td>  <td>0.2229</td>  <td>-96500.6302</td>  <td>407113.4325</td>\n",
       "</tr>\n",
       "<tr>\n",
       "  <th>COUNTRY_NZ</th>              <td>194218.9120</td> <td>173491.9293</td> <td>1.1195</td>  <td>0.2667</td> <td>-151630.9280</td>  <td>540068.7521</td>\n",
       "</tr>\n",
       "<tr>\n",
       "  <th>COUNTRY_PAK</th>             <td>75921.7670</td>  <td>193463.5545</td> <td>0.3924</td>  <td>0.6959</td> <td>-309740.7804</td>  <td>461584.3143</td>\n",
       "</tr>\n",
       "<tr>\n",
       "  <th>COUNTRY_SA</th>              <td>64283.3894</td>  <td>144587.6773</td> <td>0.4446</td>  <td>0.6579</td> <td>-223946.8775</td>  <td>352513.6563</td>\n",
       "</tr>\n",
       "<tr>\n",
       "  <th>COUNTRY_SL</th>              <td>17360.1530</td>  <td>176333.7497</td> <td>0.0985</td>  <td>0.9218</td> <td>-334154.7526</td>  <td>368875.0586</td>\n",
       "</tr>\n",
       "<tr>\n",
       "  <th>COUNTRY_WI</th>              <td>10607.7792</td>  <td>230686.7892</td> <td>0.0460</td>  <td>0.9635</td> <td>-449257.9303</td>  <td>470473.4887</td>\n",
       "</tr>\n",
       "<tr>\n",
       "  <th>COUNTRY_ZIM</th>            <td>-145494.4793</td> <td>401505.2815</td> <td>-0.3624</td> <td>0.7181</td> <td>-945880.6296</td>  <td>654891.6710</td>\n",
       "</tr>\n",
       "<tr>\n",
       "  <th>PLAYING ROLE_Batsman</th>    <td>75724.7643</td>  <td>150250.0240</td> <td>0.5040</td>  <td>0.6158</td> <td>-223793.1844</td>  <td>375242.7130</td>\n",
       "</tr>\n",
       "<tr>\n",
       "  <th>PLAYING ROLE_Bowler</th>     <td>15395.8752</td>  <td>126308.1272</td> <td>0.1219</td>  <td>0.9033</td> <td>-236394.7744</td>  <td>267186.5249</td>\n",
       "</tr>\n",
       "<tr>\n",
       "  <th>PLAYING ROLE_W. Keeper</th>  <td>-71358.6280</td> <td>213585.7444</td> <td>-0.3341</td> <td>0.7393</td> <td>-497134.0278</td>  <td>354416.7718</td>\n",
       "</tr>\n",
       "<tr>\n",
       "  <th>CAPTAINCY EXP_1</th>         <td>164113.3972</td> <td>123430.6353</td> <td>1.3296</td>  <td>0.1878</td>  <td>-81941.0772</td>  <td>410167.8716</td>\n",
       "</tr>\n",
       "</table>\n",
       "<table class=\"simpletable\">\n",
       "<tr>\n",
       "     <td>Omnibus:</td>    <td>0.891</td>  <td>Durbin-Watson:</td>   <td>2.244</td>\n",
       "</tr>\n",
       "<tr>\n",
       "  <td>Prob(Omnibus):</td> <td>0.640</td> <td>Jarque-Bera (JB):</td> <td>0.638</td>\n",
       "</tr>\n",
       "<tr>\n",
       "       <td>Skew:</td>     <td>0.190</td>     <td>Prob(JB):</td>     <td>0.727</td>\n",
       "</tr>\n",
       "<tr>\n",
       "     <td>Kurtosis:</td>   <td>3.059</td>  <td>Condition No.:</td>   <td>84116</td>\n",
       "</tr>\n",
       "</table>"
      ],
      "text/plain": [
       "<class 'statsmodels.iolib.summary2.Summary'>\n",
       "\"\"\"\n",
       "                            Results: Ordinary least squares\n",
       "========================================================================================\n",
       "Model:                     OLS                     Adj. R-squared:            0.362     \n",
       "Dependent Variable:        SOLD PRICE              AIC:                       2965.2841 \n",
       "Date:                      2019-12-03 13:41        BIC:                       3049.9046 \n",
       "No. Observations:          104                     Log-Likelihood:            -1450.6   \n",
       "Df Model:                  31                      F-statistic:               2.883     \n",
       "Df Residuals:              72                      Prob (F-statistic):        0.000114  \n",
       "R-squared:                 0.554                   Scale:                     1.1034e+11\n",
       "----------------------------------------------------------------------------------------\n",
       "                          Coef.       Std.Err.     t    P>|t|     [0.025       0.975]   \n",
       "----------------------------------------------------------------------------------------\n",
       "const                   375827.1991 228849.9306  1.6422 0.1049  -80376.7996  832031.1978\n",
       "T-RUNS                     -53.7890     32.7172 -1.6441 0.1045    -119.0096      11.4316\n",
       "T-WKTS                    -132.5967    609.7525 -0.2175 0.8285   -1348.1162    1082.9228\n",
       "ODI-RUNS-S                  57.9600     31.5071  1.8396 0.0700      -4.8482     120.7681\n",
       "ODI-SR-B                  -524.1450   1576.6368 -0.3324 0.7405   -3667.1130    2618.8231\n",
       "ODI-WKTS                   815.3944    832.3883  0.9796 0.3306    -843.9413    2474.7301\n",
       "ODI-SR-BL                 -773.3092   1536.3334 -0.5033 0.6163   -3835.9338    2289.3154\n",
       "RUNS-S                     114.7205    173.3088  0.6619 0.5101    -230.7643     460.2054\n",
       "HS                       -5516.3354   2586.3277 -2.1329 0.0363  -10672.0855    -360.5853\n",
       "AVE                      21560.2760   7774.2419  2.7733 0.0071    6062.6080   37057.9439\n",
       "SR -B                    -1324.7218   1373.1303 -0.9647 0.3379   -4062.0071    1412.5635\n",
       "SIXERS                    4264.1001   4089.6000  1.0427 0.3006   -3888.3685   12416.5687\n",
       "RUNS-C                      69.8250    297.6697  0.2346 0.8152    -523.5687     663.2187\n",
       "WKTS                      3075.2422   7262.4452  0.4234 0.6732  -11402.1778   17552.6622\n",
       "AVE-BL                    5182.9335  10230.1581  0.5066 0.6140  -15210.5140   25576.3810\n",
       "ECON                     -6820.7781  13109.3693 -0.5203 0.6045  -32953.8282   19312.2721\n",
       "SR-BL                    -7658.8094  14041.8735 -0.5454 0.5871  -35650.7726   20333.1539\n",
       "AGE_2                  -230767.6463 114117.2005 -2.0222 0.0469 -458256.1279   -3279.1648\n",
       "AGE_3                  -216827.0808 152246.6232 -1.4242 0.1587 -520325.1772   86671.0155\n",
       "COUNTRY_BAN            -122103.5196 438719.2796 -0.2783 0.7816 -996674.4194  752467.3801\n",
       "COUNTRY_ENG             672410.7654 238386.2220  2.8207 0.0062  197196.5172 1147625.0135\n",
       "COUNTRY_IND             155306.4011 126316.3449  1.2295 0.2229  -96500.6302  407113.4325\n",
       "COUNTRY_NZ              194218.9120 173491.9293  1.1195 0.2667 -151630.9280  540068.7521\n",
       "COUNTRY_PAK              75921.7670 193463.5545  0.3924 0.6959 -309740.7804  461584.3143\n",
       "COUNTRY_SA               64283.3894 144587.6773  0.4446 0.6579 -223946.8775  352513.6563\n",
       "COUNTRY_SL               17360.1530 176333.7497  0.0985 0.9218 -334154.7526  368875.0586\n",
       "COUNTRY_WI               10607.7792 230686.7892  0.0460 0.9635 -449257.9303  470473.4887\n",
       "COUNTRY_ZIM            -145494.4793 401505.2815 -0.3624 0.7181 -945880.6296  654891.6710\n",
       "PLAYING ROLE_Batsman     75724.7643 150250.0240  0.5040 0.6158 -223793.1844  375242.7130\n",
       "PLAYING ROLE_Bowler      15395.8752 126308.1272  0.1219 0.9033 -236394.7744  267186.5249\n",
       "PLAYING ROLE_W. Keeper  -71358.6280 213585.7444 -0.3341 0.7393 -497134.0278  354416.7718\n",
       "CAPTAINCY EXP_1         164113.3972 123430.6353  1.3296 0.1878  -81941.0772  410167.8716\n",
       "----------------------------------------------------------------------------------------\n",
       "Omnibus:                       0.891               Durbin-Watson:                  2.244\n",
       "Prob(Omnibus):                 0.640               Jarque-Bera (JB):               0.638\n",
       "Skew:                          0.190               Prob(JB):                       0.727\n",
       "Kurtosis:                      3.059               Condition No.:                  84116\n",
       "========================================================================================\n",
       "* The condition number is large (8e+04). This might indicate             strong\n",
       "multicollinearity or other numerical problems.\n",
       "\"\"\""
      ]
     },
     "execution_count": 174,
     "metadata": {},
     "output_type": "execute_result"
    }
   ],
   "source": [
    "ipl_model.summary2()"
   ]
  },
  {
   "cell_type": "markdown",
   "metadata": {},
   "source": [
    "## Get the Significant features"
   ]
  },
  {
   "cell_type": "code",
   "execution_count": 175,
   "metadata": {},
   "outputs": [],
   "source": [
    "def get_significant_vars( lm ):\n",
    "    var_p_vals_df = pd.DataFrame( lm.pvalues )\n",
    "    var_p_vals_df['vars'] = var_p_vals_df.index\n",
    "    var_p_vals_df.columns = ['pvals', 'vars']\n",
    "    return list( var_p_vals_df[var_p_vals_df.pvals <= 0.05]['vars'] )"
   ]
  },
  {
   "cell_type": "code",
   "execution_count": 176,
   "metadata": {},
   "outputs": [],
   "source": [
    "significant_vars = get_significant_vars( ipl_model )"
   ]
  },
  {
   "cell_type": "code",
   "execution_count": 177,
   "metadata": {},
   "outputs": [
    {
     "data": {
      "text/plain": [
       "['HS ', 'AVE', 'AGE_2', 'COUNTRY_ENG']"
      ]
     },
     "execution_count": 177,
     "metadata": {},
     "output_type": "execute_result"
    }
   ],
   "source": [
    "significant_vars"
   ]
  },
  {
   "cell_type": "markdown",
   "metadata": {},
   "source": [
    "## The model says that only 'HS ', 'AVE', 'AGE_2', 'COUNTRY_ENG' are significant. This is not very intuitive and could be result of multi-collinearity effect"
   ]
  },
  {
   "cell_type": "markdown",
   "metadata": {},
   "source": [
    "## Handling Multi-Collinearity "
   ]
  },
  {
   "cell_type": "code",
   "execution_count": 183,
   "metadata": {},
   "outputs": [],
   "source": [
    "from statsmodels.stats.outliers_influence import variance_inflation_factor\n",
    "def get_vif(X):\n",
    "    X_matrix = X.as_matrix()\n",
    "    vif = [variance_inflation_factor(X_matrix,i) for i in range (X_matrix.shape[1])]\n",
    "    vif_df = pd.DataFrame()\n",
    "    vif_df['column'] = X.columns\n",
    "    vif_df['VIF'] = vif\n",
    "    return vif_df"
   ]
  },
  {
   "cell_type": "code",
   "execution_count": 184,
   "metadata": {},
   "outputs": [
    {
     "data": {
      "text/html": [
       "<div>\n",
       "<style scoped>\n",
       "    .dataframe tbody tr th:only-of-type {\n",
       "        vertical-align: middle;\n",
       "    }\n",
       "\n",
       "    .dataframe tbody tr th {\n",
       "        vertical-align: top;\n",
       "    }\n",
       "\n",
       "    .dataframe thead th {\n",
       "        text-align: right;\n",
       "    }\n",
       "</style>\n",
       "<table border=\"1\" class=\"dataframe\">\n",
       "  <thead>\n",
       "    <tr style=\"text-align: right;\">\n",
       "      <th></th>\n",
       "      <th>column</th>\n",
       "      <th>VIF</th>\n",
       "    </tr>\n",
       "  </thead>\n",
       "  <tbody>\n",
       "    <tr>\n",
       "      <td>0</td>\n",
       "      <td>T-RUNS</td>\n",
       "      <td>12.612694</td>\n",
       "    </tr>\n",
       "    <tr>\n",
       "      <td>1</td>\n",
       "      <td>T-WKTS</td>\n",
       "      <td>7.679284</td>\n",
       "    </tr>\n",
       "    <tr>\n",
       "      <td>2</td>\n",
       "      <td>ODI-RUNS-S</td>\n",
       "      <td>16.426209</td>\n",
       "    </tr>\n",
       "    <tr>\n",
       "      <td>3</td>\n",
       "      <td>ODI-SR-B</td>\n",
       "      <td>13.829376</td>\n",
       "    </tr>\n",
       "    <tr>\n",
       "      <td>4</td>\n",
       "      <td>ODI-WKTS</td>\n",
       "      <td>9.951800</td>\n",
       "    </tr>\n",
       "    <tr>\n",
       "      <td>5</td>\n",
       "      <td>ODI-SR-BL</td>\n",
       "      <td>4.426818</td>\n",
       "    </tr>\n",
       "    <tr>\n",
       "      <td>6</td>\n",
       "      <td>RUNS-S</td>\n",
       "      <td>16.135407</td>\n",
       "    </tr>\n",
       "    <tr>\n",
       "      <td>7</td>\n",
       "      <td>HS</td>\n",
       "      <td>22.781017</td>\n",
       "    </tr>\n",
       "    <tr>\n",
       "      <td>8</td>\n",
       "      <td>AVE</td>\n",
       "      <td>25.226566</td>\n",
       "    </tr>\n",
       "    <tr>\n",
       "      <td>9</td>\n",
       "      <td>SR -B</td>\n",
       "      <td>21.576204</td>\n",
       "    </tr>\n",
       "    <tr>\n",
       "      <td>10</td>\n",
       "      <td>SIXERS</td>\n",
       "      <td>9.547268</td>\n",
       "    </tr>\n",
       "    <tr>\n",
       "      <td>11</td>\n",
       "      <td>RUNS-C</td>\n",
       "      <td>38.229691</td>\n",
       "    </tr>\n",
       "    <tr>\n",
       "      <td>12</td>\n",
       "      <td>WKTS</td>\n",
       "      <td>33.366067</td>\n",
       "    </tr>\n",
       "    <tr>\n",
       "      <td>13</td>\n",
       "      <td>AVE-BL</td>\n",
       "      <td>100.198105</td>\n",
       "    </tr>\n",
       "    <tr>\n",
       "      <td>14</td>\n",
       "      <td>ECON</td>\n",
       "      <td>7.650140</td>\n",
       "    </tr>\n",
       "    <tr>\n",
       "      <td>15</td>\n",
       "      <td>SR-BL</td>\n",
       "      <td>103.723846</td>\n",
       "    </tr>\n",
       "    <tr>\n",
       "      <td>16</td>\n",
       "      <td>AGE_2</td>\n",
       "      <td>6.996226</td>\n",
       "    </tr>\n",
       "    <tr>\n",
       "      <td>17</td>\n",
       "      <td>AGE_3</td>\n",
       "      <td>3.855003</td>\n",
       "    </tr>\n",
       "    <tr>\n",
       "      <td>18</td>\n",
       "      <td>COUNTRY_BAN</td>\n",
       "      <td>1.469017</td>\n",
       "    </tr>\n",
       "    <tr>\n",
       "      <td>19</td>\n",
       "      <td>COUNTRY_ENG</td>\n",
       "      <td>1.391524</td>\n",
       "    </tr>\n",
       "    <tr>\n",
       "      <td>20</td>\n",
       "      <td>COUNTRY_IND</td>\n",
       "      <td>4.568898</td>\n",
       "    </tr>\n",
       "    <tr>\n",
       "      <td>21</td>\n",
       "      <td>COUNTRY_NZ</td>\n",
       "      <td>1.497856</td>\n",
       "    </tr>\n",
       "    <tr>\n",
       "      <td>22</td>\n",
       "      <td>COUNTRY_PAK</td>\n",
       "      <td>1.796355</td>\n",
       "    </tr>\n",
       "    <tr>\n",
       "      <td>23</td>\n",
       "      <td>COUNTRY_SA</td>\n",
       "      <td>1.886555</td>\n",
       "    </tr>\n",
       "    <tr>\n",
       "      <td>24</td>\n",
       "      <td>COUNTRY_SL</td>\n",
       "      <td>1.984902</td>\n",
       "    </tr>\n",
       "    <tr>\n",
       "      <td>25</td>\n",
       "      <td>COUNTRY_WI</td>\n",
       "      <td>1.531847</td>\n",
       "    </tr>\n",
       "    <tr>\n",
       "      <td>26</td>\n",
       "      <td>COUNTRY_ZIM</td>\n",
       "      <td>1.312168</td>\n",
       "    </tr>\n",
       "    <tr>\n",
       "      <td>27</td>\n",
       "      <td>PLAYING ROLE_Batsman</td>\n",
       "      <td>4.843136</td>\n",
       "    </tr>\n",
       "    <tr>\n",
       "      <td>28</td>\n",
       "      <td>PLAYING ROLE_Bowler</td>\n",
       "      <td>3.795864</td>\n",
       "    </tr>\n",
       "    <tr>\n",
       "      <td>29</td>\n",
       "      <td>PLAYING ROLE_W. Keeper</td>\n",
       "      <td>3.132044</td>\n",
       "    </tr>\n",
       "    <tr>\n",
       "      <td>30</td>\n",
       "      <td>CAPTAINCY EXP_1</td>\n",
       "      <td>4.245128</td>\n",
       "    </tr>\n",
       "  </tbody>\n",
       "</table>\n",
       "</div>"
      ],
      "text/plain": [
       "                    column         VIF\n",
       "0                   T-RUNS   12.612694\n",
       "1                   T-WKTS    7.679284\n",
       "2               ODI-RUNS-S   16.426209\n",
       "3                 ODI-SR-B   13.829376\n",
       "4                 ODI-WKTS    9.951800\n",
       "5                ODI-SR-BL    4.426818\n",
       "6                   RUNS-S   16.135407\n",
       "7                      HS    22.781017\n",
       "8                      AVE   25.226566\n",
       "9                    SR -B   21.576204\n",
       "10                  SIXERS    9.547268\n",
       "11                  RUNS-C   38.229691\n",
       "12                    WKTS   33.366067\n",
       "13                  AVE-BL  100.198105\n",
       "14                    ECON    7.650140\n",
       "15                   SR-BL  103.723846\n",
       "16                   AGE_2    6.996226\n",
       "17                   AGE_3    3.855003\n",
       "18             COUNTRY_BAN    1.469017\n",
       "19             COUNTRY_ENG    1.391524\n",
       "20             COUNTRY_IND    4.568898\n",
       "21              COUNTRY_NZ    1.497856\n",
       "22             COUNTRY_PAK    1.796355\n",
       "23              COUNTRY_SA    1.886555\n",
       "24              COUNTRY_SL    1.984902\n",
       "25              COUNTRY_WI    1.531847\n",
       "26             COUNTRY_ZIM    1.312168\n",
       "27    PLAYING ROLE_Batsman    4.843136\n",
       "28     PLAYING ROLE_Bowler    3.795864\n",
       "29  PLAYING ROLE_W. Keeper    3.132044\n",
       "30         CAPTAINCY EXP_1    4.245128"
      ]
     },
     "execution_count": 184,
     "metadata": {},
     "output_type": "execute_result"
    }
   ],
   "source": [
    "vif_factors = get_vif(X[X_Features])\n",
    "vif_factors"
   ]
  },
  {
   "cell_type": "markdown",
   "metadata": {},
   "source": [
    "## Checking the correlation of columns with large VIF"
   ]
  },
  {
   "cell_type": "code",
   "execution_count": 188,
   "metadata": {},
   "outputs": [
    {
     "data": {
      "text/plain": [
       "0                   T-RUNS\n",
       "1                   T-WKTS\n",
       "2               ODI-RUNS-S\n",
       "3                 ODI-SR-B\n",
       "4                 ODI-WKTS\n",
       "5                ODI-SR-BL\n",
       "6                   RUNS-S\n",
       "7                      HS \n",
       "8                      AVE\n",
       "9                    SR -B\n",
       "10                  SIXERS\n",
       "11                  RUNS-C\n",
       "12                    WKTS\n",
       "13                  AVE-BL\n",
       "14                    ECON\n",
       "15                   SR-BL\n",
       "16                   AGE_2\n",
       "20             COUNTRY_IND\n",
       "27    PLAYING ROLE_Batsman\n",
       "30         CAPTAINCY EXP_1\n",
       "Name: column, dtype: object"
      ]
     },
     "execution_count": 188,
     "metadata": {},
     "output_type": "execute_result"
    }
   ],
   "source": [
    "cols_large_VIF = vif_factors[vif_factors['VIF']>4].column\n",
    "cols_large_VIF"
   ]
  },
  {
   "cell_type": "code",
   "execution_count": 193,
   "metadata": {},
   "outputs": [
    {
     "data": {
      "text/plain": [
       "['T-RUNS',\n",
       " 'T-WKTS',\n",
       " 'ODI-RUNS-S',\n",
       " 'ODI-SR-B',\n",
       " 'ODI-WKTS',\n",
       " 'ODI-SR-BL',\n",
       " 'RUNS-S',\n",
       " 'HS ',\n",
       " 'AVE',\n",
       " 'SR -B',\n",
       " 'SIXERS',\n",
       " 'RUNS-C',\n",
       " 'WKTS',\n",
       " 'AVE-BL',\n",
       " 'ECON',\n",
       " 'SR-BL',\n",
       " 'AGE_2',\n",
       " 'COUNTRY_IND',\n",
       " 'PLAYING ROLE_Batsman',\n",
       " 'CAPTAINCY EXP_1']"
      ]
     },
     "execution_count": 193,
     "metadata": {},
     "output_type": "execute_result"
    }
   ],
   "source": [
    "list(cols_large_VIF)"
   ]
  },
  {
   "cell_type": "code",
   "execution_count": 189,
   "metadata": {},
   "outputs": [
    {
     "data": {
      "text/plain": [
       "Text(0.5, 1, 'Heat map depicting correlation between features')"
      ]
     },
     "execution_count": 189,
     "metadata": {},
     "output_type": "execute_result"
    },
    {
     "data": {
      "image/png": "[encoded data removed]",
      "text/plain": [
       "<Figure size 864x720 with 2 Axes>"
      ]
     },
     "metadata": {
      "needs_background": "light"
     },
     "output_type": "display_data"
    }
   ],
   "source": [
    "# Heat map for VIF more than 4\n",
    "plt.figure(figsize=(12,10))\n",
    "sn.heatmap(X[cols_large_VIF].corr(), annot=True)\n",
    "plt.title(\"Heat map depicting correlation between features\")"
   ]
  },
  {
   "cell_type": "markdown",
   "metadata": {},
   "source": [
    "## Note: To avoid multi-collinearity , keep only one column from each group of highly correlated variables and remove others."
   ]
  },
  {
   "cell_type": "code",
   "execution_count": 194,
   "metadata": {},
   "outputs": [],
   "source": [
    "cols_to_be_removed = ['T-RUNS','T-WKTS','RUNS-S','HS ','AVE','RUNS-C','SR -B','AVE-BL','ECON','ODI-SR-B', 'ODI-RUNS-S','AGE_2',\n",
    "                      'SR-BL']\n",
    " "
   ]
  },
  {
   "cell_type": "code",
   "execution_count": 195,
   "metadata": {},
   "outputs": [],
   "source": [
    "X_new_Features =list(set(X_Features ) - set(cols_to_be_removed))"
   ]
  },
  {
   "cell_type": "code",
   "execution_count": 196,
   "metadata": {},
   "outputs": [
    {
     "data": {
      "text/html": [
       "<div>\n",
       "<style scoped>\n",
       "    .dataframe tbody tr th:only-of-type {\n",
       "        vertical-align: middle;\n",
       "    }\n",
       "\n",
       "    .dataframe tbody tr th {\n",
       "        vertical-align: top;\n",
       "    }\n",
       "\n",
       "    .dataframe thead th {\n",
       "        text-align: right;\n",
       "    }\n",
       "</style>\n",
       "<table border=\"1\" class=\"dataframe\">\n",
       "  <thead>\n",
       "    <tr style=\"text-align: right;\">\n",
       "      <th></th>\n",
       "      <th>column</th>\n",
       "      <th>VIF</th>\n",
       "    </tr>\n",
       "  </thead>\n",
       "  <tbody>\n",
       "    <tr>\n",
       "      <td>0</td>\n",
       "      <td>COUNTRY_ZIM</td>\n",
       "      <td>1.205305</td>\n",
       "    </tr>\n",
       "    <tr>\n",
       "      <td>1</td>\n",
       "      <td>COUNTRY_BAN</td>\n",
       "      <td>1.094293</td>\n",
       "    </tr>\n",
       "    <tr>\n",
       "      <td>2</td>\n",
       "      <td>ODI-WKTS</td>\n",
       "      <td>2.742889</td>\n",
       "    </tr>\n",
       "    <tr>\n",
       "      <td>3</td>\n",
       "      <td>ODI-SR-BL</td>\n",
       "      <td>2.822148</td>\n",
       "    </tr>\n",
       "    <tr>\n",
       "      <td>4</td>\n",
       "      <td>COUNTRY_NZ</td>\n",
       "      <td>1.173418</td>\n",
       "    </tr>\n",
       "    <tr>\n",
       "      <td>5</td>\n",
       "      <td>COUNTRY_WI</td>\n",
       "      <td>1.194093</td>\n",
       "    </tr>\n",
       "    <tr>\n",
       "      <td>6</td>\n",
       "      <td>COUNTRY_PAK</td>\n",
       "      <td>1.334773</td>\n",
       "    </tr>\n",
       "    <tr>\n",
       "      <td>7</td>\n",
       "      <td>WKTS</td>\n",
       "      <td>2.883101</td>\n",
       "    </tr>\n",
       "    <tr>\n",
       "      <td>8</td>\n",
       "      <td>PLAYING ROLE_W. Keeper</td>\n",
       "      <td>1.900941</td>\n",
       "    </tr>\n",
       "    <tr>\n",
       "      <td>9</td>\n",
       "      <td>PLAYING ROLE_Batsman</td>\n",
       "      <td>2.680207</td>\n",
       "    </tr>\n",
       "    <tr>\n",
       "      <td>10</td>\n",
       "      <td>CAPTAINCY EXP_1</td>\n",
       "      <td>2.458745</td>\n",
       "    </tr>\n",
       "    <tr>\n",
       "      <td>11</td>\n",
       "      <td>COUNTRY_SA</td>\n",
       "      <td>1.416657</td>\n",
       "    </tr>\n",
       "    <tr>\n",
       "      <td>12</td>\n",
       "      <td>SIXERS</td>\n",
       "      <td>2.397409</td>\n",
       "    </tr>\n",
       "    <tr>\n",
       "      <td>13</td>\n",
       "      <td>COUNTRY_IND</td>\n",
       "      <td>3.144668</td>\n",
       "    </tr>\n",
       "    <tr>\n",
       "      <td>14</td>\n",
       "      <td>PLAYING ROLE_Bowler</td>\n",
       "      <td>3.060168</td>\n",
       "    </tr>\n",
       "    <tr>\n",
       "      <td>15</td>\n",
       "      <td>COUNTRY_SL</td>\n",
       "      <td>1.519752</td>\n",
       "    </tr>\n",
       "    <tr>\n",
       "      <td>16</td>\n",
       "      <td>AGE_3</td>\n",
       "      <td>1.779861</td>\n",
       "    </tr>\n",
       "    <tr>\n",
       "      <td>17</td>\n",
       "      <td>COUNTRY_ENG</td>\n",
       "      <td>1.131869</td>\n",
       "    </tr>\n",
       "  </tbody>\n",
       "</table>\n",
       "</div>"
      ],
      "text/plain": [
       "                    column       VIF\n",
       "0              COUNTRY_ZIM  1.205305\n",
       "1              COUNTRY_BAN  1.094293\n",
       "2                 ODI-WKTS  2.742889\n",
       "3                ODI-SR-BL  2.822148\n",
       "4               COUNTRY_NZ  1.173418\n",
       "5               COUNTRY_WI  1.194093\n",
       "6              COUNTRY_PAK  1.334773\n",
       "7                     WKTS  2.883101\n",
       "8   PLAYING ROLE_W. Keeper  1.900941\n",
       "9     PLAYING ROLE_Batsman  2.680207\n",
       "10         CAPTAINCY EXP_1  2.458745\n",
       "11              COUNTRY_SA  1.416657\n",
       "12                  SIXERS  2.397409\n",
       "13             COUNTRY_IND  3.144668\n",
       "14     PLAYING ROLE_Bowler  3.060168\n",
       "15              COUNTRY_SL  1.519752\n",
       "16                   AGE_3  1.779861\n",
       "17             COUNTRY_ENG  1.131869"
      ]
     },
     "execution_count": 196,
     "metadata": {},
     "output_type": "execute_result"
    }
   ],
   "source": [
    "get_vif(X[X_new_Features])"
   ]
  },
  {
   "cell_type": "markdown",
   "metadata": {},
   "source": [
    "### Note: All variables have VIF less than 4. So no multi-colleniarity exists."
   ]
  },
  {
   "cell_type": "markdown",
   "metadata": {},
   "source": [
    "## Build the model after removing multi-collinearity"
   ]
  },
  {
   "cell_type": "code",
   "execution_count": 197,
   "metadata": {},
   "outputs": [],
   "source": [
    "X_train =X_train[X_new_Features]"
   ]
  },
  {
   "cell_type": "code",
   "execution_count": 198,
   "metadata": {},
   "outputs": [],
   "source": [
    "ipl_model2= sm.OLS(y_train, X_train).fit()"
   ]
  },
  {
   "cell_type": "code",
   "execution_count": 200,
   "metadata": {},
   "outputs": [
    {
     "data": {
      "text/html": [
       "<table class=\"simpletable\">\n",
       "<tr>\n",
       "          <td>Model:</td>                 <td>OLS</td>       <td>Adj. R-squared (uncentered):</td>    <td>0.728</td>  \n",
       "</tr>\n",
       "<tr>\n",
       "    <td>Dependent Variable:</td>      <td>SOLD PRICE</td>                <td>AIC:</td>              <td>2965.1080</td>\n",
       "</tr>\n",
       "<tr>\n",
       "           <td>Date:</td>          <td>2019-12-03 13:59</td>             <td>BIC:</td>              <td>3012.7070</td>\n",
       "</tr>\n",
       "<tr>\n",
       "     <td>No. Observations:</td>           <td>104</td>              <td>Log-Likelihood:</td>         <td>-1464.6</td> \n",
       "</tr>\n",
       "<tr>\n",
       "         <td>Df Model:</td>               <td>18</td>                <td>F-statistic:</td>            <td>16.49</td>  \n",
       "</tr>\n",
       "<tr>\n",
       "       <td>Df Residuals:</td>             <td>86</td>             <td>Prob (F-statistic):</td>      <td>1.13e-20</td> \n",
       "</tr>\n",
       "<tr>\n",
       "  <td>R-squared (uncentered):</td>       <td>0.775</td>                 <td>Scale:</td>            <td>1.2071e+11</td>\n",
       "</tr>\n",
       "</table>\n",
       "<table class=\"simpletable\">\n",
       "<tr>\n",
       "             <td></td>                <th>Coef.</th>     <th>Std.Err.</th>      <th>t</th>     <th>P>|t|</th>    <th>[0.025</th>       <th>0.975]</th>   \n",
       "</tr>\n",
       "<tr>\n",
       "  <th>COUNTRY_ZIM</th>             <td>-67977.6781</td> <td>390859.9289</td> <td>-0.1739</td> <td>0.8623</td> <td>-844981.5006</td>  <td>709026.1444</td>\n",
       "</tr>\n",
       "<tr>\n",
       "  <th>COUNTRY_BAN</th>            <td>-108758.6040</td> <td>369274.1916</td> <td>-0.2945</td> <td>0.7691</td> <td>-842851.4010</td>  <td>625334.1930</td>\n",
       "</tr>\n",
       "<tr>\n",
       "  <th>ODI-WKTS</th>                 <td>772.4088</td>    <td>470.6354</td>   <td>1.6412</td>  <td>0.1044</td>   <td>-163.1834</td>    <td>1708.0009</td> \n",
       "</tr>\n",
       "<tr>\n",
       "  <th>ODI-SR-BL</th>                <td>909.0021</td>    <td>1267.4969</td>  <td>0.7172</td>  <td>0.4752</td>  <td>-1610.6983</td>    <td>3428.7026</td> \n",
       "</tr>\n",
       "<tr>\n",
       "  <th>COUNTRY_NZ</th>              <td>142968.8843</td> <td>151841.7382</td> <td>0.9416</td>  <td>0.3491</td> <td>-158882.5009</td>  <td>444820.2695</td>\n",
       "</tr>\n",
       "<tr>\n",
       "  <th>COUNTRY_WI</th>              <td>-22234.9315</td> <td>213050.5847</td> <td>-0.1044</td> <td>0.9171</td> <td>-445765.4766</td>  <td>401295.6135</td>\n",
       "</tr>\n",
       "<tr>\n",
       "  <th>COUNTRY_PAK</th>             <td>122810.2480</td> <td>159600.8063</td> <td>0.7695</td>  <td>0.4437</td> <td>-194465.6541</td>  <td>440086.1502</td>\n",
       "</tr>\n",
       "<tr>\n",
       "  <th>WKTS</th>                     <td>2431.8988</td>   <td>2105.3524</td>  <td>1.1551</td>  <td>0.2512</td>  <td>-1753.4033</td>    <td>6617.2008</td> \n",
       "</tr>\n",
       "<tr>\n",
       "  <th>PLAYING ROLE_W. Keeper</th>  <td>-55121.9240</td> <td>169922.5271</td> <td>-0.3244</td> <td>0.7464</td> <td>-392916.7280</td>  <td>282672.8801</td>\n",
       "</tr>\n",
       "<tr>\n",
       "  <th>PLAYING ROLE_Batsman</th>    <td>121382.0570</td> <td>106685.0356</td> <td>1.1378</td>  <td>0.2584</td>  <td>-90700.7746</td>  <td>333464.8886</td>\n",
       "</tr>\n",
       "<tr>\n",
       "  <th>CAPTAINCY EXP_1</th>         <td>208376.6957</td> <td>98128.0284</td>  <td>2.1235</td>  <td>0.0366</td>  <td>13304.6315</td>   <td>403448.7600</td>\n",
       "</tr>\n",
       "<tr>\n",
       "  <th>COUNTRY_SA</th>              <td>108735.9086</td> <td>115092.9596</td> <td>0.9448</td>  <td>0.3474</td> <td>-120061.3227</td>  <td>337533.1399</td>\n",
       "</tr>\n",
       "<tr>\n",
       "  <th>SIXERS</th>                   <td>7862.1259</td>   <td>2086.6101</td>  <td>3.7679</td>  <td>0.0003</td>   <td>3714.0824</td>   <td>12010.1694</td> \n",
       "</tr>\n",
       "<tr>\n",
       "  <th>COUNTRY_IND</th>             <td>282829.8091</td> <td>96188.0292</td>  <td>2.9404</td>  <td>0.0042</td>  <td>91614.3356</td>   <td>474045.2827</td>\n",
       "</tr>\n",
       "<tr>\n",
       "  <th>PLAYING ROLE_Bowler</th>     <td>-18315.4968</td> <td>106035.9664</td> <td>-0.1727</td> <td>0.8633</td> <td>-229108.0215</td>  <td>192477.0279</td>\n",
       "</tr>\n",
       "<tr>\n",
       "  <th>COUNTRY_SL</th>              <td>55912.3398</td>  <td>142277.1829</td> <td>0.3930</td>  <td>0.6953</td> <td>-226925.3388</td>  <td>338750.0184</td>\n",
       "</tr>\n",
       "<tr>\n",
       "  <th>AGE_3</th>                   <td>-8950.6659</td>  <td>98041.9325</td>  <td>-0.0913</td> <td>0.9275</td> <td>-203851.5772</td>  <td>185950.2453</td>\n",
       "</tr>\n",
       "<tr>\n",
       "  <th>COUNTRY_ENG</th>             <td>682934.7166</td> <td>216150.8279</td> <td>3.1595</td>  <td>0.0022</td>  <td>253241.0920</td> <td>1112628.3411</td>\n",
       "</tr>\n",
       "</table>\n",
       "<table class=\"simpletable\">\n",
       "<tr>\n",
       "     <td>Omnibus:</td>    <td>8.635</td>  <td>Durbin-Watson:</td>   <td>2.252</td>\n",
       "</tr>\n",
       "<tr>\n",
       "  <td>Prob(Omnibus):</td> <td>0.013</td> <td>Jarque-Bera (JB):</td> <td>8.345</td>\n",
       "</tr>\n",
       "<tr>\n",
       "       <td>Skew:</td>     <td>0.623</td>     <td>Prob(JB):</td>     <td>0.015</td>\n",
       "</tr>\n",
       "<tr>\n",
       "     <td>Kurtosis:</td>   <td>3.609</td>  <td>Condition No.:</td>   <td>1492</td> \n",
       "</tr>\n",
       "</table>"
      ],
      "text/plain": [
       "<class 'statsmodels.iolib.summary2.Summary'>\n",
       "\"\"\"\n",
       "                            Results: Ordinary least squares\n",
       "========================================================================================\n",
       "Model:                      OLS                Adj. R-squared (uncentered):   0.728     \n",
       "Dependent Variable:         SOLD PRICE         AIC:                           2965.1080 \n",
       "Date:                       2019-12-03 13:59   BIC:                           3012.7070 \n",
       "No. Observations:           104                Log-Likelihood:                -1464.6   \n",
       "Df Model:                   18                 F-statistic:                   16.49     \n",
       "Df Residuals:               86                 Prob (F-statistic):            1.13e-20  \n",
       "R-squared (uncentered):     0.775              Scale:                         1.2071e+11\n",
       "----------------------------------------------------------------------------------------\n",
       "                          Coef.       Std.Err.     t    P>|t|     [0.025       0.975]   \n",
       "----------------------------------------------------------------------------------------\n",
       "COUNTRY_ZIM             -67977.6781 390859.9289 -0.1739 0.8623 -844981.5006  709026.1444\n",
       "COUNTRY_BAN            -108758.6040 369274.1916 -0.2945 0.7691 -842851.4010  625334.1930\n",
       "ODI-WKTS                   772.4088    470.6354  1.6412 0.1044    -163.1834    1708.0009\n",
       "ODI-SR-BL                  909.0021   1267.4969  0.7172 0.4752   -1610.6983    3428.7026\n",
       "COUNTRY_NZ              142968.8843 151841.7382  0.9416 0.3491 -158882.5009  444820.2695\n",
       "COUNTRY_WI              -22234.9315 213050.5847 -0.1044 0.9171 -445765.4766  401295.6135\n",
       "COUNTRY_PAK             122810.2480 159600.8063  0.7695 0.4437 -194465.6541  440086.1502\n",
       "WKTS                      2431.8988   2105.3524  1.1551 0.2512   -1753.4033    6617.2008\n",
       "PLAYING ROLE_W. Keeper  -55121.9240 169922.5271 -0.3244 0.7464 -392916.7280  282672.8801\n",
       "PLAYING ROLE_Batsman    121382.0570 106685.0356  1.1378 0.2584  -90700.7746  333464.8886\n",
       "CAPTAINCY EXP_1         208376.6957  98128.0284  2.1235 0.0366   13304.6315  403448.7600\n",
       "COUNTRY_SA              108735.9086 115092.9596  0.9448 0.3474 -120061.3227  337533.1399\n",
       "SIXERS                    7862.1259   2086.6101  3.7679 0.0003    3714.0824   12010.1694\n",
       "COUNTRY_IND             282829.8091  96188.0292  2.9404 0.0042   91614.3356  474045.2827\n",
       "PLAYING ROLE_Bowler     -18315.4968 106035.9664 -0.1727 0.8633 -229108.0215  192477.0279\n",
       "COUNTRY_SL               55912.3398 142277.1829  0.3930 0.6953 -226925.3388  338750.0184\n",
       "AGE_3                    -8950.6659  98041.9325 -0.0913 0.9275 -203851.5772  185950.2453\n",
       "COUNTRY_ENG             682934.7166 216150.8279  3.1595 0.0022  253241.0920 1112628.3411\n",
       "----------------------------------------------------------------------------------------\n",
       "Omnibus:                       8.635               Durbin-Watson:                  2.252\n",
       "Prob(Omnibus):                 0.013               Jarque-Bera (JB):               8.345\n",
       "Skew:                          0.623               Prob(JB):                       0.015\n",
       "Kurtosis:                      3.609               Condition No.:                  1492 \n",
       "========================================================================================\n",
       "* The condition number is large (1e+03). This might indicate             strong\n",
       "multicollinearity or other numerical problems.\n",
       "\"\"\""
      ]
     },
     "execution_count": 200,
     "metadata": {},
     "output_type": "execute_result"
    }
   ],
   "source": [
    "ipl_model2.summary2()"
   ]
  },
  {
   "cell_type": "code",
   "execution_count": 203,
   "metadata": {},
   "outputs": [],
   "source": [
    "significant_vars= get_significant_vars(ipl_model2)"
   ]
  },
  {
   "cell_type": "markdown",
   "metadata": {},
   "source": [
    "### Note: Based on p-value only variables 'CAPTAINCY EXP_1', 'SIXERS', 'COUNTRY_IND', 'COUNTRY_ENG' are significant. And model can predict 77 % of variance in the sold price"
   ]
  },
  {
   "cell_type": "code",
   "execution_count": 204,
   "metadata": {},
   "outputs": [],
   "source": [
    "X_train = X_train[significant_vars]"
   ]
  },
  {
   "cell_type": "code",
   "execution_count": 205,
   "metadata": {},
   "outputs": [],
   "source": [
    "ipl_model3= sm.OLS(y_train, X_train).fit()"
   ]
  },
  {
   "cell_type": "code",
   "execution_count": 206,
   "metadata": {},
   "outputs": [
    {
     "data": {
      "text/html": [
       "<table class=\"simpletable\">\n",
       "<tr>\n",
       "          <td>Model:</td>                 <td>OLS</td>       <td>Adj. R-squared (uncentered):</td>    <td>0.704</td>  \n",
       "</tr>\n",
       "<tr>\n",
       "    <td>Dependent Variable:</td>      <td>SOLD PRICE</td>                <td>AIC:</td>              <td>2961.8089</td>\n",
       "</tr>\n",
       "<tr>\n",
       "           <td>Date:</td>          <td>2019-12-03 14:35</td>             <td>BIC:</td>              <td>2972.3864</td>\n",
       "</tr>\n",
       "<tr>\n",
       "     <td>No. Observations:</td>           <td>104</td>              <td>Log-Likelihood:</td>         <td>-1476.9</td> \n",
       "</tr>\n",
       "<tr>\n",
       "         <td>Df Model:</td>                <td>4</td>                <td>F-statistic:</td>            <td>62.77</td>  \n",
       "</tr>\n",
       "<tr>\n",
       "       <td>Df Residuals:</td>             <td>100</td>            <td>Prob (F-statistic):</td>      <td>1.97e-26</td> \n",
       "</tr>\n",
       "<tr>\n",
       "  <td>R-squared (uncentered):</td>       <td>0.715</td>                 <td>Scale:</td>            <td>1.3164e+11</td>\n",
       "</tr>\n",
       "</table>\n",
       "<table class=\"simpletable\">\n",
       "<tr>\n",
       "         <td></td>            <th>Coef.</th>     <th>Std.Err.</th>      <th>t</th>    <th>P>|t|</th>   <th>[0.025</th>       <th>0.975]</th>   \n",
       "</tr>\n",
       "<tr>\n",
       "  <th>CAPTAINCY EXP_1</th> <td>359725.2741</td> <td>74930.3460</td>  <td>4.8008</td> <td>0.0000</td> <td>211065.6018</td>  <td>508384.9463</td>\n",
       "</tr>\n",
       "<tr>\n",
       "  <th>SIXERS</th>           <td>8637.8344</td>   <td>1675.1313</td>  <td>5.1565</td> <td>0.0000</td>  <td>5314.4216</td>   <td>11961.2472</td> \n",
       "</tr>\n",
       "<tr>\n",
       "  <th>COUNTRY_IND</th>     <td>387890.2538</td> <td>63007.1511</td>  <td>6.1563</td> <td>0.0000</td> <td>262885.8606</td>  <td>512894.6471</td>\n",
       "</tr>\n",
       "<tr>\n",
       "  <th>COUNTRY_ENG</th>     <td>731833.6386</td> <td>214164.4988</td> <td>3.4172</td> <td>0.0009</td> <td>306937.3727</td> <td>1156729.9045</td>\n",
       "</tr>\n",
       "</table>\n",
       "<table class=\"simpletable\">\n",
       "<tr>\n",
       "     <td>Omnibus:</td>    <td>1.130</td>  <td>Durbin-Watson:</td>   <td>2.238</td>\n",
       "</tr>\n",
       "<tr>\n",
       "  <td>Prob(Omnibus):</td> <td>0.568</td> <td>Jarque-Bera (JB):</td> <td>0.874</td>\n",
       "</tr>\n",
       "<tr>\n",
       "       <td>Skew:</td>     <td>0.223</td>     <td>Prob(JB):</td>     <td>0.646</td>\n",
       "</tr>\n",
       "<tr>\n",
       "     <td>Kurtosis:</td>   <td>3.046</td>  <td>Condition No.:</td>    <td>165</td> \n",
       "</tr>\n",
       "</table>"
      ],
      "text/plain": [
       "<class 'statsmodels.iolib.summary2.Summary'>\n",
       "\"\"\"\n",
       "                        Results: Ordinary least squares\n",
       "================================================================================\n",
       "Model:                  OLS              Adj. R-squared (uncentered): 0.704     \n",
       "Dependent Variable:     SOLD PRICE       AIC:                         2961.8089 \n",
       "Date:                   2019-12-03 14:35 BIC:                         2972.3864 \n",
       "No. Observations:       104              Log-Likelihood:              -1476.9   \n",
       "Df Model:               4                F-statistic:                 62.77     \n",
       "Df Residuals:           100              Prob (F-statistic):          1.97e-26  \n",
       "R-squared (uncentered): 0.715            Scale:                       1.3164e+11\n",
       "--------------------------------------------------------------------------------\n",
       "                     Coef.      Std.Err.    t    P>|t|     [0.025      0.975]   \n",
       "--------------------------------------------------------------------------------\n",
       "CAPTAINCY EXP_1   359725.2741  74930.3460 4.8008 0.0000 211065.6018  508384.9463\n",
       "SIXERS              8637.8344   1675.1313 5.1565 0.0000   5314.4216   11961.2472\n",
       "COUNTRY_IND       387890.2538  63007.1511 6.1563 0.0000 262885.8606  512894.6471\n",
       "COUNTRY_ENG       731833.6386 214164.4988 3.4172 0.0009 306937.3727 1156729.9045\n",
       "--------------------------------------------------------------------------------\n",
       "Omnibus:                   1.130             Durbin-Watson:                2.238\n",
       "Prob(Omnibus):             0.568             Jarque-Bera (JB):             0.874\n",
       "Skew:                      0.223             Prob(JB):                     0.646\n",
       "Kurtosis:                  3.046             Condition No.:                165  \n",
       "================================================================================\n",
       "\n",
       "\"\"\""
      ]
     },
     "execution_count": 206,
     "metadata": {},
     "output_type": "execute_result"
    }
   ],
   "source": [
    "ipl_model3.summary2()"
   ]
  },
  {
   "cell_type": "markdown",
   "metadata": {},
   "source": [
    "## Note: All variables are statistically signficant. Overall model is also significant because the F-statistic is significant.\n",
    "## The model can explain 71.5 % of the variance in SOLD PRICE as the R-square value is 0.715."
   ]
  },
  {
   "cell_type": "markdown",
   "metadata": {},
   "source": [
    "## Residual analysis of the model."
   ]
  },
  {
   "cell_type": "markdown",
   "metadata": {},
   "source": [
    "### 1. Normality test using p-p plot"
   ]
  },
  {
   "cell_type": "code",
   "execution_count": 216,
   "metadata": {},
   "outputs": [],
   "source": [
    "def draw_pp_plot(model, title):\n",
    "    probplot = sm.ProbPlot(model.resid);  \n",
    "    plt.figure(figsize=(8,6));\n",
    "    probplot.ppplot(line ='45');\n",
    "    plt.title(title);\n",
    "    plt.show();\n",
    "    "
   ]
  },
  {
   "cell_type": "code",
   "execution_count": 217,
   "metadata": {},
   "outputs": [
    {
     "data": {
      "text/plain": [
       "<Figure size 576x432 with 0 Axes>"
      ]
     },
     "metadata": {},
     "output_type": "display_data"
    },
    {
     "data": {
      "image/png": "[encoded data removed]",
      "text/plain": [
       "<Figure size 432x288 with 1 Axes>"
      ]
     },
     "metadata": {
      "needs_background": "light"
     },
     "output_type": "display_data"
    }
   ],
   "source": [
    "draw_pp_plot(ipl_model3,'Normal P-P Plot of Regression Standardized Residuals')"
   ]
  },
  {
   "cell_type": "code",
   "execution_count": 220,
   "metadata": {},
   "outputs": [],
   "source": [
    "def get_std_values(vals):\n",
    "    return(vals-vals.mean())/vals.std()"
   ]
  },
  {
   "cell_type": "code",
   "execution_count": 221,
   "metadata": {},
   "outputs": [],
   "source": [
    "def residual_plot(fitted, resid, title):\n",
    "    plt.scatter(get_std_values(fitted), get_std_values(resid))\n",
    "    plt.title(title)\n",
    "    plt.xlabel(\"Standardised Predicted values\")\n",
    "    plt.ylabel(\"Standardised Residual Values\")\n",
    "    plt.show()"
   ]
  },
  {
   "cell_type": "code",
   "execution_count": 222,
   "metadata": {},
   "outputs": [
    {
     "data": {
      "image/png": "[encoded data removed]",
      "text/plain": [
       "<Figure size 432x288 with 1 Axes>"
      ]
     },
     "metadata": {
      "needs_background": "light"
     },
     "output_type": "display_data"
    }
   ],
   "source": [
    "residual_plot(ipl_model3.fittedvalues, ipl_model3.resid, \"Residual Plot\")"
   ]
  },
  {
   "cell_type": "markdown",
   "metadata": {},
   "source": [
    "### Note: The residula plot do not show any signs of heteroscedasticity."
   ]
  },
  {
   "cell_type": "markdown",
   "metadata": {},
   "source": [
    "## Transforming the Response variable to get better performance"
   ]
  },
  {
   "cell_type": "code",
   "execution_count": 223,
   "metadata": {},
   "outputs": [],
   "source": [
    "# Create a new response variable by taking the square root of the existing values\n",
    "y_train_new = np.sqrt(y_train)"
   ]
  },
  {
   "cell_type": "code",
   "execution_count": 224,
   "metadata": {},
   "outputs": [],
   "source": [
    "ipl_model4= sm.OLS(y_train_new, X_train).fit()"
   ]
  },
  {
   "cell_type": "code",
   "execution_count": 225,
   "metadata": {},
   "outputs": [
    {
     "data": {
      "text/html": [
       "<table class=\"simpletable\">\n",
       "<tr>\n",
       "          <td>Model:</td>                 <td>OLS</td>       <td>Adj. R-squared (uncentered):</td>    <td>0.741</td>  \n",
       "</tr>\n",
       "<tr>\n",
       "    <td>Dependent Variable:</td>      <td>SOLD PRICE</td>                <td>AIC:</td>              <td>1527.9999</td>\n",
       "</tr>\n",
       "<tr>\n",
       "           <td>Date:</td>          <td>2019-12-03 15:01</td>             <td>BIC:</td>              <td>1538.5775</td>\n",
       "</tr>\n",
       "<tr>\n",
       "     <td>No. Observations:</td>           <td>104</td>              <td>Log-Likelihood:</td>         <td>-760.00</td> \n",
       "</tr>\n",
       "<tr>\n",
       "         <td>Df Model:</td>                <td>4</td>                <td>F-statistic:</td>            <td>75.29</td>  \n",
       "</tr>\n",
       "<tr>\n",
       "       <td>Df Residuals:</td>             <td>100</td>            <td>Prob (F-statistic):</td>      <td>2.63e-29</td> \n",
       "</tr>\n",
       "<tr>\n",
       "  <td>R-squared (uncentered):</td>       <td>0.751</td>                 <td>Scale:</td>            <td>1.3550e+05</td>\n",
       "</tr>\n",
       "</table>\n",
       "<table class=\"simpletable\">\n",
       "<tr>\n",
       "         <td></td>           <th>Coef.</th>  <th>Std.Err.</th>    <th>t</th>    <th>P>|t|</th>  <th>[0.025</th>   <th>0.975]</th> \n",
       "</tr>\n",
       "<tr>\n",
       "  <th>CAPTAINCY EXP_1</th> <td>417.7575</td>  <td>76.0204</td> <td>5.4953</td> <td>0.0000</td> <td>266.9352</td> <td>568.5799</td>\n",
       "</tr>\n",
       "<tr>\n",
       "  <th>SIXERS</th>           <td>8.5338</td>   <td>1.6995</td>  <td>5.0213</td> <td>0.0000</td>  <td>5.1620</td>   <td>11.9055</td>\n",
       "</tr>\n",
       "<tr>\n",
       "  <th>COUNTRY_IND</th>     <td>490.7089</td>  <td>63.9238</td> <td>7.6765</td> <td>0.0000</td> <td>363.8860</td> <td>617.5318</td>\n",
       "</tr>\n",
       "<tr>\n",
       "  <th>COUNTRY_ENG</th>     <td>563.0261</td> <td>217.2801</td> <td>2.5912</td> <td>0.0110</td> <td>131.9486</td> <td>994.1036</td>\n",
       "</tr>\n",
       "</table>\n",
       "<table class=\"simpletable\">\n",
       "<tr>\n",
       "     <td>Omnibus:</td>    <td>0.017</td>  <td>Durbin-Watson:</td>   <td>1.879</td>\n",
       "</tr>\n",
       "<tr>\n",
       "  <td>Prob(Omnibus):</td> <td>0.992</td> <td>Jarque-Bera (JB):</td> <td>0.145</td>\n",
       "</tr>\n",
       "<tr>\n",
       "       <td>Skew:</td>     <td>0.005</td>     <td>Prob(JB):</td>     <td>0.930</td>\n",
       "</tr>\n",
       "<tr>\n",
       "     <td>Kurtosis:</td>   <td>2.817</td>  <td>Condition No.:</td>    <td>165</td> \n",
       "</tr>\n",
       "</table>"
      ],
      "text/plain": [
       "<class 'statsmodels.iolib.summary2.Summary'>\n",
       "\"\"\"\n",
       "                        Results: Ordinary least squares\n",
       "================================================================================\n",
       "Model:                  OLS              Adj. R-squared (uncentered): 0.741     \n",
       "Dependent Variable:     SOLD PRICE       AIC:                         1527.9999 \n",
       "Date:                   2019-12-03 15:01 BIC:                         1538.5775 \n",
       "No. Observations:       104              Log-Likelihood:              -760.00   \n",
       "Df Model:               4                F-statistic:                 75.29     \n",
       "Df Residuals:           100              Prob (F-statistic):          2.63e-29  \n",
       "R-squared (uncentered): 0.751            Scale:                       1.3550e+05\n",
       "-----------------------------------------------------------------------------------\n",
       "                    Coef.      Std.Err.      t       P>|t|      [0.025      0.975] \n",
       "-----------------------------------------------------------------------------------\n",
       "CAPTAINCY EXP_1    417.7575     76.0204    5.4953    0.0000    266.9352    568.5799\n",
       "SIXERS               8.5338      1.6995    5.0213    0.0000      5.1620     11.9055\n",
       "COUNTRY_IND        490.7089     63.9238    7.6765    0.0000    363.8860    617.5318\n",
       "COUNTRY_ENG        563.0261    217.2801    2.5912    0.0110    131.9486    994.1036\n",
       "--------------------------------------------------------------------------------\n",
       "Omnibus:                   0.017             Durbin-Watson:                1.879\n",
       "Prob(Omnibus):             0.992             Jarque-Bera (JB):             0.145\n",
       "Skew:                      0.005             Prob(JB):                     0.930\n",
       "Kurtosis:                  2.817             Condition No.:                165  \n",
       "================================================================================\n",
       "\n",
       "\"\"\""
      ]
     },
     "execution_count": 225,
     "metadata": {},
     "output_type": "execute_result"
    }
   ],
   "source": [
    "ipl_model4.summary2()"
   ]
  },
  {
   "cell_type": "markdown",
   "metadata": {},
   "source": [
    "### Note that the R-square value has been increased from 71% to 75%. "
   ]
  },
  {
   "cell_type": "code",
   "execution_count": 226,
   "metadata": {},
   "outputs": [
    {
     "data": {
      "text/plain": [
       "<Figure size 576x432 with 0 Axes>"
      ]
     },
     "metadata": {},
     "output_type": "display_data"
    },
    {
     "data": {
      "image/png": "[encoded data removed]",
      "text/plain": [
       "<Figure size 432x288 with 1 Axes>"
      ]
     },
     "metadata": {
      "needs_background": "light"
     },
     "output_type": "display_data"
    }
   ],
   "source": [
    "draw_pp_plot(ipl_model4, 'Normal P-P Plot of Regression Standardized Residuals')"
   ]
  },
  {
   "cell_type": "markdown",
   "metadata": {},
   "source": [
    "## Making prediction on validation set"
   ]
  },
  {
   "cell_type": "code",
   "execution_count": 227,
   "metadata": {},
   "outputs": [],
   "source": [
    "## As model 4 is built using the square root of response variable we need to square the predicted values of SOLD PRICE\n",
    "y_pred = np.power(ipl_model4.predict(X_test[X_train.columns]),2)"
   ]
  },
  {
   "cell_type": "markdown",
   "metadata": {},
   "source": [
    "### Measuring RMSE"
   ]
  },
  {
   "cell_type": "code",
   "execution_count": 228,
   "metadata": {},
   "outputs": [
    {
     "data": {
      "text/plain": [
       "496151.1812255839"
      ]
     },
     "execution_count": 228,
     "metadata": {},
     "output_type": "execute_result"
    }
   ],
   "source": [
    "from sklearn.metrics import mean_squared_error\n",
    "np.sqrt(mean_squared_error(y_pred,y_test))"
   ]
  },
  {
   "cell_type": "markdown",
   "metadata": {},
   "source": [
    "### Measuring R-square value"
   ]
  },
  {
   "cell_type": "code",
   "execution_count": 229,
   "metadata": {},
   "outputs": [
    {
     "data": {
      "text/plain": [
       "0.44"
      ]
     },
     "execution_count": 229,
     "metadata": {},
     "output_type": "execute_result"
    }
   ],
   "source": [
    "from sklearn import metrics\n",
    "np.round(metrics.r2_score(y_pred,y_test),2)"
   ]
  }
 ],
 "metadata": {
  "kernelspec": {
   "display_name": "Python 3",
   "language": "python",
   "name": "python3"
  },
  "language_info": {
   "codemirror_mode": {
    "name": "ipython",
    "version": 3
   },
   "file_extension": ".py",
   "mimetype": "text/x-python",
   "name": "python",
   "nbconvert_exporter": "python",
   "pygments_lexer": "ipython3",
   "version": "3.7.4"
  }
 },
 "nbformat": 4,
 "nbformat_minor": 2
}
